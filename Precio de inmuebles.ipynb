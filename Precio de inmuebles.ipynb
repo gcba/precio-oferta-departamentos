{
 "cells": [
  {
   "cell_type": "markdown",
   "metadata": {},
   "source": [
    "# Precio de inmuebles por radio censal"
   ]
  },
  {
   "cell_type": "code",
   "execution_count": 8,
   "metadata": {
    "collapsed": false
   },
   "outputs": [
    {
     "name": "stdout",
     "output_type": "stream",
     "text": [
      "PyTables is not installed. No support for HDF output.\n"
     ]
    }
   ],
   "source": [
    "import pandas as pd\n",
    "import numpy as np\n",
    "%matplotlib inline\n",
    "import matplotlib\n",
    "matplotlib.style.use('ggplot')\n",
    "import dataset\n",
    "import sys\n",
    "import psycopg2\n",
    "from simpledbf import Dbf5\n",
    "from scripts.land_prices import get_data, remove_scarce_data\n",
    "from scripts.land_prices import intersect_data_with_shps, read_dataset\n",
    "from scripts.path_finders import get_division_path, get_data_dir, get_indicators_path\n",
    "from scripts.cartodb_layers import merge_shapefiles"
   ]
  },
  {
   "cell_type": "markdown",
   "metadata": {},
   "source": [
    "## 1. Mergear los shapefiles desde el 2001 al 2014"
   ]
  },
  {
   "cell_type": "markdown",
   "metadata": {},
   "source": [
    "Se juntan los shapefiles de cada año en uno solo. Se eligen los campos a mantener para reducir el tamaño."
   ]
  },
  {
   "cell_type": "code",
   "execution_count": 2,
   "metadata": {
    "collapsed": true
   },
   "outputs": [],
   "source": [
    "prices_dir = \"data\"\n",
    "output_path = os.path.join(\"deptos\", \"deptos\")\n",
    "replacements = {\n",
    "    \"BARRIO\": [\"BARRIOS\"],\n",
    "    \"LON\": [\"X\"],\n",
    "    \"LAT\": [\"Y\"],\n",
    "    \"LON\": [\"LONGITUD\"],\n",
    "    \"LAT\": [\"LATITUD\"],\n",
    "    \"U_S_M2\": [\"US_M2\"]\n",
    "}"
   ]
  },
  {
   "cell_type": "code",
   "execution_count": 86,
   "metadata": {
    "collapsed": false
   },
   "outputs": [
    {
     "name": "stdout",
     "output_type": "stream",
     "text": [
      "Merging 1 2002            deptos_2002\n",
      "Merging 1 2003            deptos_2003\n",
      "Merging 1 2001            deptos_2001\n",
      "Merging 1 2006            deptos_2006\n",
      "Merging 1 2007            deptos_2007\n",
      "Merging 1 2004            deptos_2004\n",
      "Merging 1 2005            deptos_2005\n",
      "Merging 1 2014            deptos_2014\n",
      "Merging 1 2008            deptos_2008\n",
      "Merging 1 2009            deptos_2009\n",
      "Merging 1 2011            deptos_2011\n",
      "Merging 1 2010            deptos_2010\n",
      "Merging 1 2013            deptos_2013\n",
      "Merging 1 2012            deptos_2012\n"
     ]
    }
   ],
   "source": [
    "w = merge_shapefiles(prices_dir, output_path, group_fields=replacements, \n",
    "                     fields_to_keep=[\"U_S_M2\", \"DOLARES\", \"M2\", \"YEAR\"])"
   ]
  },
  {
   "cell_type": "code",
   "execution_count": 87,
   "metadata": {
    "collapsed": false
   },
   "outputs": [],
   "source": [
    "df = Dbf5(output_path + \".dbf\").to_dataframe()"
   ]
  },
  {
   "cell_type": "code",
   "execution_count": 89,
   "metadata": {
    "collapsed": false
   },
   "outputs": [
    {
     "data": {
      "text/plain": [
       "array([u'2002', u'2003', u'2001', u'2006', u'2007', u'2004', u'2005',\n",
       "       u'2014', u'2008', u'2009', u'2011', u'2010', u'2013', u'2012'], dtype=object)"
      ]
     },
     "execution_count": 89,
     "metadata": {},
     "output_type": "execute_result"
    }
   ],
   "source": [
    "df.orig_sf.unique()"
   ]
  },
  {
   "cell_type": "markdown",
   "metadata": {},
   "source": [
    "## 2. Asignar divisiones de la CABA a cada inmueble"
   ]
  },
  {
   "cell_type": "markdown",
   "metadata": {},
   "source": [
    "El shapefile mergeado se debe cargar a una base de datos PostgreSQL. Para esto se puede usar una herramienta externa como *pgShapeLoader*.\n",
    "\n",
    "* **Asignar la manzana que contiene al inmueble** \n",
    "    * `ALTER TABLE deptos ADD id_manzana text;`\n",
    "    * `UPDATE deptos SET id_manzana = m.ID FROM manzanas_censo_2010 m WHERE ST_Contains(m.geom, deptos.geom);`\n",
    "    * `UPDATE deptos SET id_manzana = m.ID FROM manzanas_censo_2010 m WHERE deptos.id_manzana is NULL AND ST_DWithin(m.geom, deptos.geom, 25);`\n",
    "* **Asignar la parcela que contiene al inmueble** \n",
    "    * `ALTER TABLE deptos ADD SMP text;`\n",
    "    * `UPDATE deptos SET SMP = p.SMP FROM mo_parcelascatastro_15072014 p WHERE ST_Contains(p.geom, deptos.geom);`\n",
    "    * `UPDATE deptos SET SMP = p.SMP FROM mo_parcelascatastro_15072014 p WHERE deptos.SMP is NULL AND ST_DWithin(p.geom, deptos.geom, 25);`\n",
    "* **Asignar el radio que contiene al inmueble** \n",
    "    * `ALTER TABLE deptos ADD CO_FRAC_RA text;`\n",
    "    * `UPDATE deptos SET CO_FRAC_RA = r.CO_FRAC_RA FROM radios_censo_2010 r WHERE ST_Contains(r.geom, deptos.geom);`\n",
    "* **Asignar la fracción que contiene al inmueble** \n",
    "    * `ALTER TABLE deptos ADD CO_FRACC text;`\n",
    "    * `UPDATE deptos SET CO_FRACC = f.CO_FRACC FROM fracciones_censo_2010 f WHERE ST_Contains(f.geom, deptos.geom);`\n",
    "* **Asignar la barrio que contiene al inmueble** \n",
    "    * `ALTER TABLE deptos ADD BARRIO text;`\n",
    "    * `UPDATE deptos SET BARRIO = b.BARRIOS FROM barrios_censo_2010 b WHERE ST_Contains(b.geom, deptos.geom);`\n",
    "* **Asignar la comuna que contiene al inmueble** \n",
    "    * `ALTER TABLE deptos ADD COMUNA text;`\n",
    "    * `UPDATE deptos SET COMUNA = c.COMUNAS FROM comunas_censo_2010 c WHERE ST_Contains(c.geom, deptos.geom);`\n",
    "* **Transformar tabla postgis en shp**\n",
    "    * `pgsql2shp -f deptos_con_divs/deptos_con_divs -h localhost -p 5432 abenassi \"SELECT * FROM deptos;\"`"
   ]
  },
  {
   "cell_type": "markdown",
   "metadata": {},
   "source": [
    "## 3. Mergear divisiones de la CABA en un sólo shapefile"
   ]
  },
  {
   "cell_type": "code",
   "execution_count": 72,
   "metadata": {
    "collapsed": false
   },
   "outputs": [],
   "source": [
    "paths = {\n",
    "    \"RADIO\": get_division_path(\"radios_censo_2010\"),\n",
    "    \"BARRIO\": get_division_path(\"barrios_censo_2010\"),\n",
    "    \"DPTO\": get_division_path(\"comunas_caba_censo_2010\"),\n",
    "    \"FRAC\": get_division_path(\"fracciones_caba_censo_2010\")\n",
    "}\n",
    "group_fields_by_sf = {\n",
    "    \"RADIO\": {\"co_frac_ra\": \"id_div\"},\n",
    "    \"FRAC\": {\"co_fracc\": \"id_div\"},\n",
    "    \"BARRIO\": {\"barrios\": \"id_div\"},\n",
    "    \"DPTO\": {\"comunas\": \"id_div\"}\n",
    "}\n",
    "divs_path = os.path.join(\"divisiones\", \"divisiones\")\n",
    "fields_to_keep = [\"orig_sf\", \"ID_DIV\"]"
   ]
  },
  {
   "cell_type": "code",
   "execution_count": 22,
   "metadata": {
    "collapsed": false
   },
   "outputs": [
    {
     "name": "stdout",
     "output_type": "stream",
     "text": [
      "Merging 5 FRAC            fracciones_censo_2010\n",
      "Merging 5 DPTO            comunas_censo_2010\n",
      "Merging 5 RADIO           radios_censo_2010\n",
      "Merging 5 BARRIO          barrios_censo_2010\n"
     ]
    }
   ],
   "source": [
    "w = merge_shapefiles(paths, divs_path, group_fields_by_sf=group_fields_by_sf,\n",
    "                    fields_to_keep=fields_to_keep)"
   ]
  },
  {
   "cell_type": "markdown",
   "metadata": {},
   "source": [
    "Contamos la cantidad de divisiones de cada categoría, para controlar que el shapefile se mergeó correctamente."
   ]
  },
  {
   "cell_type": "code",
   "execution_count": 105,
   "metadata": {
    "collapsed": true
   },
   "outputs": [],
   "source": [
    "df = Dbf5(divs_path + \".dbf\").to_dataframe()"
   ]
  },
  {
   "cell_type": "code",
   "execution_count": 108,
   "metadata": {
    "collapsed": false
   },
   "outputs": [
    {
     "name": "stdout",
     "output_type": "stream",
     "text": [
      "FRAC 351\n",
      "DPTO 15\n",
      "RADIO 3554\n",
      "BARRIO 48\n"
     ]
    }
   ],
   "source": [
    "for area_level in paths:\n",
    "    print area_level, len(df[df.ORIG_SF == area_level])"
   ]
  },
  {
   "cell_type": "markdown",
   "metadata": {},
   "source": [
    "## 4. Calcular los promedios por división de la CABA"
   ]
  },
  {
   "cell_type": "code",
   "execution_count": 99,
   "metadata": {
    "collapsed": false
   },
   "outputs": [
    {
     "name": "stdout",
     "output_type": "stream",
     "text": [
      "\n"
     ]
    }
   ],
   "source": [
    "def gen_query_area_level_average(area_level, year):\n",
    "\n",
    "    area_level_id_fields = {\n",
    "        \"RADIO\": \"co_frac_ra\",\n",
    "        \"FRAC\": \"co_fracc\",\n",
    "        \"BARRIO\": \"barrio\",\n",
    "        \"DPTO\": \"comuna\"\n",
    "    }\n",
    "    \n",
    "    query = \"\"\"\n",
    "    WITH average AS\n",
    "        (SELECT {0}, \n",
    "         CASE \n",
    "             WHEN sum(deptos_con_divs.m2) > 0 THEN sum(deptos_con_divs.dolares) / sum(deptos_con_divs.m2)\n",
    "             ELSE 0\n",
    "         END AS usdm2\n",
    "         FROM deptos_con_divs WHERE orig_sf = '{2}'\n",
    "         GROUP BY {0})\n",
    "\n",
    "    UPDATE divisiones SET {3} = average.usdm2\n",
    "    FROM average\n",
    "    WHERE divisiones.orig_sf = '{1}' AND divisiones.id_div = average.{0}\n",
    "    \"\"\".format(area_level_id_fields[area_level], area_level, year, \"usdm2_\" + unicode(year))\n",
    "    \n",
    "    return query"
   ]
  },
  {
   "cell_type": "code",
   "execution_count": 100,
   "metadata": {
    "collapsed": true
   },
   "outputs": [],
   "source": [
    "def gen_query_create_column(year, table=\"divisiones\"):\n",
    "    return \"ALTER TABLE {} ADD {} decimal;\".format(table, \"usdm2_\" + unicode(year))"
   ]
  },
  {
   "cell_type": "code",
   "execution_count": 101,
   "metadata": {
    "collapsed": true
   },
   "outputs": [],
   "source": [
    "def calc_area_levels_average(area_levels, years):\n",
    "    db = dataset.connect('postgresql://localhost:5432')\n",
    "\n",
    "    for year in years:\n",
    "        print \"Calculating averages for\", year,\n",
    "        sys.stdout.flush()\n",
    "        \n",
    "        if \"usdm2_\" + unicode(year) not in db.get_table(\"divisiones\").columns:\n",
    "            query_column = gen_query_create_column(year)\n",
    "            db.begin()\n",
    "            db.query(query_column)\n",
    "            db.commit()\n",
    "\n",
    "        \n",
    "        for area_level in area_levels:\n",
    "            print area_level,\n",
    "            query_calc_average = gen_query_area_level_average(area_level, year)\n",
    "            db.begin()\n",
    "            db.query(query_calc_average)\n",
    "            db.commit()\n",
    "        \n",
    "        print \"\""
   ]
  },
  {
   "cell_type": "code",
   "execution_count": 102,
   "metadata": {
    "collapsed": false
   },
   "outputs": [],
   "source": [
    "years = range(2001, 2015)\n",
    "area_levels = [\"DPTO\", \"BARRIO\",  \"FRAC\", \"RADIO\"]"
   ]
  },
  {
   "cell_type": "code",
   "execution_count": 103,
   "metadata": {
    "collapsed": false
   },
   "outputs": [
    {
     "name": "stdout",
     "output_type": "stream",
     "text": [
      "Calculating averages for 2001 DPTO BARRIO FRAC RADIO \n",
      "Calculating averages for 2002 DPTO BARRIO FRAC RADIO \n",
      "Calculating averages for 2003 DPTO BARRIO FRAC RADIO \n",
      "Calculating averages for 2004 DPTO BARRIO FRAC RADIO \n",
      "Calculating averages for 2005 DPTO BARRIO FRAC RADIO \n",
      "Calculating averages for 2006 DPTO BARRIO FRAC RADIO \n",
      "Calculating averages for 2007 DPTO BARRIO FRAC RADIO \n",
      "Calculating averages for 2008 DPTO BARRIO FRAC RADIO \n",
      "Calculating averages for 2009 DPTO BARRIO FRAC RADIO \n",
      "Calculating averages for 2010 DPTO BARRIO FRAC RADIO \n",
      "Calculating averages for 2011 DPTO BARRIO FRAC RADIO \n",
      "Calculating averages for 2012 DPTO BARRIO FRAC RADIO \n",
      "Calculating averages for 2013 DPTO BARRIO FRAC RADIO \n",
      "Calculating averages for 2014 DPTO BARRIO FRAC RADIO \n"
     ]
    }
   ],
   "source": [
    "calc_area_levels_average(area_levels, years)"
   ]
  },
  {
   "cell_type": "markdown",
   "metadata": {},
   "source": [
    "Controlamos alguna división (comunas) para ver que los valores de USD por M2 fueron calculados."
   ]
  },
  {
   "cell_type": "code",
   "execution_count": 104,
   "metadata": {
    "collapsed": false
   },
   "outputs": [
    {
     "data": {
      "text/html": [
       "<div>\n",
       "<table border=\"1\" class=\"dataframe\">\n",
       "  <thead>\n",
       "    <tr style=\"text-align: right;\">\n",
       "      <th></th>\n",
       "      <th>gid</th>\n",
       "      <th>orig_sf</th>\n",
       "      <th>id_div</th>\n",
       "      <th>geom</th>\n",
       "      <th>usdm2_2001</th>\n",
       "      <th>usdm2_2002</th>\n",
       "      <th>usdm2_2003</th>\n",
       "      <th>usdm2_2004</th>\n",
       "      <th>usdm2_2005</th>\n",
       "      <th>usdm2_2006</th>\n",
       "      <th>usdm2_2007</th>\n",
       "      <th>usdm2_2008</th>\n",
       "      <th>usdm2_2009</th>\n",
       "      <th>usdm2_2010</th>\n",
       "      <th>usdm2_2011</th>\n",
       "      <th>usdm2_2012</th>\n",
       "      <th>usdm2_2013</th>\n",
       "      <th>usdm2_2014</th>\n",
       "    </tr>\n",
       "  </thead>\n",
       "  <tbody>\n",
       "    <tr>\n",
       "      <th>0</th>\n",
       "      <td>352</td>\n",
       "      <td>DPTO</td>\n",
       "      <td>1</td>\n",
       "      <td>010600000002000000010300000001000000B7080000C3...</td>\n",
       "      <td>853.946166</td>\n",
       "      <td>447.166416</td>\n",
       "      <td>538.895486</td>\n",
       "      <td>795.936389</td>\n",
       "      <td>1039.846485</td>\n",
       "      <td>1252.667961</td>\n",
       "      <td>1518.823761</td>\n",
       "      <td>1830.228625</td>\n",
       "      <td>1925.980076</td>\n",
       "      <td>1971.497537</td>\n",
       "      <td>2616.188885</td>\n",
       "      <td>2505.252011</td>\n",
       "      <td>2228.816227</td>\n",
       "      <td>2745.506788</td>\n",
       "    </tr>\n",
       "    <tr>\n",
       "      <th>1</th>\n",
       "      <td>353</td>\n",
       "      <td>DPTO</td>\n",
       "      <td>2</td>\n",
       "      <td>01060000000100000001030000000100000020060000A4...</td>\n",
       "      <td>1045.544495</td>\n",
       "      <td>648.638699</td>\n",
       "      <td>800.019776</td>\n",
       "      <td>1090.981854</td>\n",
       "      <td>1162.687407</td>\n",
       "      <td>1477.822084</td>\n",
       "      <td>1701.800914</td>\n",
       "      <td>2296.118814</td>\n",
       "      <td>2175.527306</td>\n",
       "      <td>2197.907589</td>\n",
       "      <td>2726.131170</td>\n",
       "      <td>2624.248091</td>\n",
       "      <td>2524.408878</td>\n",
       "      <td>2693.251721</td>\n",
       "    </tr>\n",
       "    <tr>\n",
       "      <th>2</th>\n",
       "      <td>364</td>\n",
       "      <td>DPTO</td>\n",
       "      <td>13</td>\n",
       "      <td>0106000000010000000103000000010000009509000050...</td>\n",
       "      <td>1016.537881</td>\n",
       "      <td>599.834313</td>\n",
       "      <td>708.369110</td>\n",
       "      <td>974.127022</td>\n",
       "      <td>1034.019409</td>\n",
       "      <td>1250.741539</td>\n",
       "      <td>1462.520728</td>\n",
       "      <td>2749.422410</td>\n",
       "      <td>1873.256534</td>\n",
       "      <td>2048.203101</td>\n",
       "      <td>2383.507266</td>\n",
       "      <td>2599.043860</td>\n",
       "      <td>2444.822097</td>\n",
       "      <td>2654.417989</td>\n",
       "    </tr>\n",
       "    <tr>\n",
       "      <th>3</th>\n",
       "      <td>365</td>\n",
       "      <td>DPTO</td>\n",
       "      <td>14</td>\n",
       "      <td>01060000000100000001030000000100000025080000FA...</td>\n",
       "      <td>1063.085873</td>\n",
       "      <td>625.141100</td>\n",
       "      <td>775.257528</td>\n",
       "      <td>1138.558293</td>\n",
       "      <td>1208.335494</td>\n",
       "      <td>1663.470044</td>\n",
       "      <td>1722.082642</td>\n",
       "      <td>2561.059738</td>\n",
       "      <td>2208.065515</td>\n",
       "      <td>2413.943267</td>\n",
       "      <td>2916.218154</td>\n",
       "      <td>3094.487841</td>\n",
       "      <td>2830.225507</td>\n",
       "      <td>3097.020112</td>\n",
       "    </tr>\n",
       "    <tr>\n",
       "      <th>4</th>\n",
       "      <td>355</td>\n",
       "      <td>DPTO</td>\n",
       "      <td>4</td>\n",
       "      <td>0106000000010000000103000000010000003C1C00004A...</td>\n",
       "      <td>678.171238</td>\n",
       "      <td>360.551937</td>\n",
       "      <td>389.066760</td>\n",
       "      <td>557.306863</td>\n",
       "      <td>631.977996</td>\n",
       "      <td>825.532747</td>\n",
       "      <td>914.185631</td>\n",
       "      <td>1843.402634</td>\n",
       "      <td>1287.728633</td>\n",
       "      <td>1316.174375</td>\n",
       "      <td>1497.420524</td>\n",
       "      <td>1912.561362</td>\n",
       "      <td>1691.590059</td>\n",
       "      <td>1724.073403</td>\n",
       "    </tr>\n",
       "    <tr>\n",
       "      <th>5</th>\n",
       "      <td>357</td>\n",
       "      <td>DPTO</td>\n",
       "      <td>6</td>\n",
       "      <td>010600000001000000010300000001000000970000008C...</td>\n",
       "      <td>883.199706</td>\n",
       "      <td>493.263002</td>\n",
       "      <td>574.652792</td>\n",
       "      <td>822.574328</td>\n",
       "      <td>876.463269</td>\n",
       "      <td>1047.009723</td>\n",
       "      <td>1168.336325</td>\n",
       "      <td>3269.591546</td>\n",
       "      <td>1537.761649</td>\n",
       "      <td>1653.765133</td>\n",
       "      <td>1950.627192</td>\n",
       "      <td>1967.195026</td>\n",
       "      <td>2066.391301</td>\n",
       "      <td>2266.326888</td>\n",
       "    </tr>\n",
       "    <tr>\n",
       "      <th>6</th>\n",
       "      <td>359</td>\n",
       "      <td>DPTO</td>\n",
       "      <td>8</td>\n",
       "      <td>010600000001000000010300000001000000AF0100000B...</td>\n",
       "      <td>328.304598</td>\n",
       "      <td>164.677892</td>\n",
       "      <td>291.819721</td>\n",
       "      <td>343.924608</td>\n",
       "      <td>474.971098</td>\n",
       "      <td>653.082192</td>\n",
       "      <td>685.888078</td>\n",
       "      <td>802.941176</td>\n",
       "      <td>994.218750</td>\n",
       "      <td>939.450145</td>\n",
       "      <td>1105.671365</td>\n",
       "      <td>1743.408983</td>\n",
       "      <td>1225.419742</td>\n",
       "      <td>1235.053038</td>\n",
       "    </tr>\n",
       "    <tr>\n",
       "      <th>7</th>\n",
       "      <td>360</td>\n",
       "      <td>DPTO</td>\n",
       "      <td>9</td>\n",
       "      <td>010600000001000000010300000001000000CE01000071...</td>\n",
       "      <td>635.444418</td>\n",
       "      <td>276.522073</td>\n",
       "      <td>363.445737</td>\n",
       "      <td>537.642839</td>\n",
       "      <td>596.493654</td>\n",
       "      <td>793.544327</td>\n",
       "      <td>854.498795</td>\n",
       "      <td>1006.303183</td>\n",
       "      <td>1102.129957</td>\n",
       "      <td>1083.022670</td>\n",
       "      <td>1446.994095</td>\n",
       "      <td>1690.747133</td>\n",
       "      <td>1604.510404</td>\n",
       "      <td>1687.931090</td>\n",
       "    </tr>\n",
       "    <tr>\n",
       "      <th>8</th>\n",
       "      <td>356</td>\n",
       "      <td>DPTO</td>\n",
       "      <td>5</td>\n",
       "      <td>010600000001000000010300000001000000E6000000CC...</td>\n",
       "      <td>806.084323</td>\n",
       "      <td>438.900795</td>\n",
       "      <td>492.178718</td>\n",
       "      <td>728.880502</td>\n",
       "      <td>773.746893</td>\n",
       "      <td>1031.454910</td>\n",
       "      <td>1128.752290</td>\n",
       "      <td>1824.983713</td>\n",
       "      <td>1427.026030</td>\n",
       "      <td>1532.675214</td>\n",
       "      <td>1824.939723</td>\n",
       "      <td>2160.045999</td>\n",
       "      <td>1889.331840</td>\n",
       "      <td>1964.761080</td>\n",
       "    </tr>\n",
       "    <tr>\n",
       "      <th>9</th>\n",
       "      <td>358</td>\n",
       "      <td>DPTO</td>\n",
       "      <td>7</td>\n",
       "      <td>0106000000010000000103000000010000004C01000034...</td>\n",
       "      <td>786.736922</td>\n",
       "      <td>428.298065</td>\n",
       "      <td>469.710027</td>\n",
       "      <td>699.079287</td>\n",
       "      <td>732.212460</td>\n",
       "      <td>896.923454</td>\n",
       "      <td>985.527983</td>\n",
       "      <td>1166.302831</td>\n",
       "      <td>1296.550051</td>\n",
       "      <td>1349.839985</td>\n",
       "      <td>1567.243313</td>\n",
       "      <td>1826.447881</td>\n",
       "      <td>1759.536177</td>\n",
       "      <td>1905.345278</td>\n",
       "    </tr>\n",
       "    <tr>\n",
       "      <th>10</th>\n",
       "      <td>366</td>\n",
       "      <td>DPTO</td>\n",
       "      <td>15</td>\n",
       "      <td>010600000001000000010300000001000000270100007C...</td>\n",
       "      <td>782.391236</td>\n",
       "      <td>404.775751</td>\n",
       "      <td>494.379464</td>\n",
       "      <td>728.395925</td>\n",
       "      <td>786.030201</td>\n",
       "      <td>989.025237</td>\n",
       "      <td>1094.734431</td>\n",
       "      <td>1906.563653</td>\n",
       "      <td>1444.747448</td>\n",
       "      <td>1543.664717</td>\n",
       "      <td>1916.680588</td>\n",
       "      <td>2037.430687</td>\n",
       "      <td>2039.731817</td>\n",
       "      <td>2149.489192</td>\n",
       "    </tr>\n",
       "    <tr>\n",
       "      <th>11</th>\n",
       "      <td>362</td>\n",
       "      <td>DPTO</td>\n",
       "      <td>11</td>\n",
       "      <td>0106000000010000000103000000010000002D01000061...</td>\n",
       "      <td>760.015942</td>\n",
       "      <td>375.927956</td>\n",
       "      <td>468.351085</td>\n",
       "      <td>705.937622</td>\n",
       "      <td>754.647467</td>\n",
       "      <td>969.585923</td>\n",
       "      <td>1051.468571</td>\n",
       "      <td>1261.763790</td>\n",
       "      <td>1448.319948</td>\n",
       "      <td>1437.604490</td>\n",
       "      <td>1816.362883</td>\n",
       "      <td>1720.915373</td>\n",
       "      <td>1961.487945</td>\n",
       "      <td>2132.339054</td>\n",
       "    </tr>\n",
       "    <tr>\n",
       "      <th>12</th>\n",
       "      <td>363</td>\n",
       "      <td>DPTO</td>\n",
       "      <td>12</td>\n",
       "      <td>010600000001000000010300000001000000CA00000057...</td>\n",
       "      <td>814.093680</td>\n",
       "      <td>456.815786</td>\n",
       "      <td>549.747053</td>\n",
       "      <td>807.178728</td>\n",
       "      <td>857.178315</td>\n",
       "      <td>1083.120253</td>\n",
       "      <td>1168.161131</td>\n",
       "      <td>1938.606342</td>\n",
       "      <td>1560.221333</td>\n",
       "      <td>1533.849068</td>\n",
       "      <td>2088.893936</td>\n",
       "      <td>2397.802926</td>\n",
       "      <td>2134.673995</td>\n",
       "      <td>2339.140094</td>\n",
       "    </tr>\n",
       "    <tr>\n",
       "      <th>13</th>\n",
       "      <td>361</td>\n",
       "      <td>DPTO</td>\n",
       "      <td>10</td>\n",
       "      <td>0106000000010000000103000000010000006D010000B0...</td>\n",
       "      <td>697.785948</td>\n",
       "      <td>337.144143</td>\n",
       "      <td>409.005169</td>\n",
       "      <td>612.299205</td>\n",
       "      <td>671.013227</td>\n",
       "      <td>863.618743</td>\n",
       "      <td>937.583663</td>\n",
       "      <td>1054.359304</td>\n",
       "      <td>1152.451924</td>\n",
       "      <td>1215.760194</td>\n",
       "      <td>1558.854137</td>\n",
       "      <td>1668.162293</td>\n",
       "      <td>1684.053615</td>\n",
       "      <td>1767.883900</td>\n",
       "    </tr>\n",
       "    <tr>\n",
       "      <th>14</th>\n",
       "      <td>354</td>\n",
       "      <td>DPTO</td>\n",
       "      <td>3</td>\n",
       "      <td>010600000001000000010300000001000000B000000051...</td>\n",
       "      <td>762.632001</td>\n",
       "      <td>378.479102</td>\n",
       "      <td>458.581463</td>\n",
       "      <td>640.404500</td>\n",
       "      <td>721.981614</td>\n",
       "      <td>888.002540</td>\n",
       "      <td>990.091291</td>\n",
       "      <td>1216.743084</td>\n",
       "      <td>1250.993728</td>\n",
       "      <td>1362.361298</td>\n",
       "      <td>1597.280064</td>\n",
       "      <td>1808.427989</td>\n",
       "      <td>1625.771802</td>\n",
       "      <td>1708.861052</td>\n",
       "    </tr>\n",
       "  </tbody>\n",
       "</table>\n",
       "</div>"
      ],
      "text/plain": [
       "    gid orig_sf id_div                                               geom  \\\n",
       "0   352    DPTO      1  010600000002000000010300000001000000B7080000C3...   \n",
       "1   353    DPTO      2  01060000000100000001030000000100000020060000A4...   \n",
       "2   364    DPTO     13  0106000000010000000103000000010000009509000050...   \n",
       "3   365    DPTO     14  01060000000100000001030000000100000025080000FA...   \n",
       "4   355    DPTO      4  0106000000010000000103000000010000003C1C00004A...   \n",
       "5   357    DPTO      6  010600000001000000010300000001000000970000008C...   \n",
       "6   359    DPTO      8  010600000001000000010300000001000000AF0100000B...   \n",
       "7   360    DPTO      9  010600000001000000010300000001000000CE01000071...   \n",
       "8   356    DPTO      5  010600000001000000010300000001000000E6000000CC...   \n",
       "9   358    DPTO      7  0106000000010000000103000000010000004C01000034...   \n",
       "10  366    DPTO     15  010600000001000000010300000001000000270100007C...   \n",
       "11  362    DPTO     11  0106000000010000000103000000010000002D01000061...   \n",
       "12  363    DPTO     12  010600000001000000010300000001000000CA00000057...   \n",
       "13  361    DPTO     10  0106000000010000000103000000010000006D010000B0...   \n",
       "14  354    DPTO      3  010600000001000000010300000001000000B000000051...   \n",
       "\n",
       "     usdm2_2001  usdm2_2002  usdm2_2003   usdm2_2004   usdm2_2005  \\\n",
       "0    853.946166  447.166416  538.895486   795.936389  1039.846485   \n",
       "1   1045.544495  648.638699  800.019776  1090.981854  1162.687407   \n",
       "2   1016.537881  599.834313  708.369110   974.127022  1034.019409   \n",
       "3   1063.085873  625.141100  775.257528  1138.558293  1208.335494   \n",
       "4    678.171238  360.551937  389.066760   557.306863   631.977996   \n",
       "5    883.199706  493.263002  574.652792   822.574328   876.463269   \n",
       "6    328.304598  164.677892  291.819721   343.924608   474.971098   \n",
       "7    635.444418  276.522073  363.445737   537.642839   596.493654   \n",
       "8    806.084323  438.900795  492.178718   728.880502   773.746893   \n",
       "9    786.736922  428.298065  469.710027   699.079287   732.212460   \n",
       "10   782.391236  404.775751  494.379464   728.395925   786.030201   \n",
       "11   760.015942  375.927956  468.351085   705.937622   754.647467   \n",
       "12   814.093680  456.815786  549.747053   807.178728   857.178315   \n",
       "13   697.785948  337.144143  409.005169   612.299205   671.013227   \n",
       "14   762.632001  378.479102  458.581463   640.404500   721.981614   \n",
       "\n",
       "     usdm2_2006   usdm2_2007   usdm2_2008   usdm2_2009   usdm2_2010  \\\n",
       "0   1252.667961  1518.823761  1830.228625  1925.980076  1971.497537   \n",
       "1   1477.822084  1701.800914  2296.118814  2175.527306  2197.907589   \n",
       "2   1250.741539  1462.520728  2749.422410  1873.256534  2048.203101   \n",
       "3   1663.470044  1722.082642  2561.059738  2208.065515  2413.943267   \n",
       "4    825.532747   914.185631  1843.402634  1287.728633  1316.174375   \n",
       "5   1047.009723  1168.336325  3269.591546  1537.761649  1653.765133   \n",
       "6    653.082192   685.888078   802.941176   994.218750   939.450145   \n",
       "7    793.544327   854.498795  1006.303183  1102.129957  1083.022670   \n",
       "8   1031.454910  1128.752290  1824.983713  1427.026030  1532.675214   \n",
       "9    896.923454   985.527983  1166.302831  1296.550051  1349.839985   \n",
       "10   989.025237  1094.734431  1906.563653  1444.747448  1543.664717   \n",
       "11   969.585923  1051.468571  1261.763790  1448.319948  1437.604490   \n",
       "12  1083.120253  1168.161131  1938.606342  1560.221333  1533.849068   \n",
       "13   863.618743   937.583663  1054.359304  1152.451924  1215.760194   \n",
       "14   888.002540   990.091291  1216.743084  1250.993728  1362.361298   \n",
       "\n",
       "     usdm2_2011   usdm2_2012   usdm2_2013   usdm2_2014  \n",
       "0   2616.188885  2505.252011  2228.816227  2745.506788  \n",
       "1   2726.131170  2624.248091  2524.408878  2693.251721  \n",
       "2   2383.507266  2599.043860  2444.822097  2654.417989  \n",
       "3   2916.218154  3094.487841  2830.225507  3097.020112  \n",
       "4   1497.420524  1912.561362  1691.590059  1724.073403  \n",
       "5   1950.627192  1967.195026  2066.391301  2266.326888  \n",
       "6   1105.671365  1743.408983  1225.419742  1235.053038  \n",
       "7   1446.994095  1690.747133  1604.510404  1687.931090  \n",
       "8   1824.939723  2160.045999  1889.331840  1964.761080  \n",
       "9   1567.243313  1826.447881  1759.536177  1905.345278  \n",
       "10  1916.680588  2037.430687  2039.731817  2149.489192  \n",
       "11  1816.362883  1720.915373  1961.487945  2132.339054  \n",
       "12  2088.893936  2397.802926  2134.673995  2339.140094  \n",
       "13  1558.854137  1668.162293  1684.053615  1767.883900  \n",
       "14  1597.280064  1808.427989  1625.771802  1708.861052  "
      ]
     },
     "execution_count": 104,
     "metadata": {},
     "output_type": "execute_result"
    }
   ],
   "source": [
    "db = dataset.connect('postgresql://localhost:5432')\n",
    "df = pd.read_sql_query(\"SELECT * FROM divisiones WHERE orig_sf = 'DPTO'\", db.engine)\n",
    "df"
   ]
  },
  {
   "cell_type": "code",
   "execution_count": 88,
   "metadata": {
    "collapsed": false
   },
   "outputs": [],
   "source": [
    "# método útil para borrar las columnas de precios por m2 si es necesario\n",
    "def drop_cols_starting_with(db, start):\n",
    "    for col in db.get_table(\"divisiones\").columns:\n",
    "        if col.startswith(start):\n",
    "            db.get_table(\"divisiones\").drop_column(col)\n",
    "            print col, \"dropped\""
   ]
  },
  {
   "cell_type": "code",
   "execution_count": 93,
   "metadata": {
    "collapsed": false
   },
   "outputs": [
    {
     "name": "stdout",
     "output_type": "stream",
     "text": [
      "usd_m2_2001 dropped\n",
      "usd_m2_2002 dropped\n",
      "usd_m2_2003 dropped\n",
      "usd_m2_2004 dropped\n",
      "usd_m2_2005 dropped\n",
      "usd_m2_2006 dropped\n",
      "usd_m2_2007 dropped\n",
      "usd_m2_2008 dropped\n",
      "usd_m2_2009 dropped\n",
      "usd_m2_2010 dropped\n",
      "usd_m2_2011 dropped\n",
      "usd_m2_2012 dropped\n",
      "usd_m2_2013 dropped\n",
      "usd_m2_2014 dropped\n"
     ]
    }
   ],
   "source": [
    "drop_cols_starting_with(db, \"usd\")"
   ]
  },
  {
   "cell_type": "code",
   "execution_count": null,
   "metadata": {
    "collapsed": true
   },
   "outputs": [],
   "source": []
  },
  {
   "cell_type": "code",
   "execution_count": null,
   "metadata": {
    "collapsed": true
   },
   "outputs": [],
   "source": []
  },
  {
   "cell_type": "code",
   "execution_count": null,
   "metadata": {
    "collapsed": true
   },
   "outputs": [],
   "source": []
  },
  {
   "cell_type": "code",
   "execution_count": null,
   "metadata": {
    "collapsed": true
   },
   "outputs": [],
   "source": []
  },
  {
   "cell_type": "code",
   "execution_count": null,
   "metadata": {
    "collapsed": true
   },
   "outputs": [],
   "source": []
  },
  {
   "cell_type": "code",
   "execution_count": 13,
   "metadata": {
    "collapsed": true
   },
   "outputs": [],
   "source": [
    "replacements = {\"MONTSERRAT\": \"MONSERRAT\", \n",
    "                \"NUÑEZ\".decode(\"utf-8\"): \"NUNEZ\",\n",
    "                \"PARQUE AVELLANEDA\": \"PARQUE AVELLANED\", \n",
    "                \"VILLA GRAL. MITRE\": [\"VILLA GRAL MITRE\", \"VILLA GRAL. MITR\"]}"
   ]
  },
  {
   "cell_type": "code",
   "execution_count": 14,
   "metadata": {
    "collapsed": false
   },
   "outputs": [
    {
     "data": {
      "text/html": [
       "<div>\n",
       "<table border=\"1\" class=\"dataframe\">\n",
       "  <thead>\n",
       "    <tr style=\"text-align: right;\">\n",
       "      <th></th>\n",
       "      <th>AMBIENTES</th>\n",
       "      <th>ANTIGUEDAD</th>\n",
       "      <th>BANOS</th>\n",
       "      <th>BARRIO</th>\n",
       "      <th>BAULERA</th>\n",
       "      <th>BA¥OS</th>\n",
       "      <th>CALLE</th>\n",
       "      <th>CALLES</th>\n",
       "      <th>COCHERA</th>\n",
       "      <th>COMUNA</th>\n",
       "      <th>DOLARES</th>\n",
       "      <th>LAVADERO</th>\n",
       "      <th>M2</th>\n",
       "      <th>NUMERO</th>\n",
       "      <th>ORIENT</th>\n",
       "      <th>TERRAZA</th>\n",
       "      <th>U_S_M2</th>\n",
       "      <th>YEAR</th>\n",
       "    </tr>\n",
       "  </thead>\n",
       "  <tbody>\n",
       "    <tr>\n",
       "      <th>0</th>\n",
       "      <td>NaN</td>\n",
       "      <td>A ESTRENAR</td>\n",
       "      <td>2</td>\n",
       "      <td>PALERMO</td>\n",
       "      <td>NaN</td>\n",
       "      <td>NaN</td>\n",
       "      <td>11 DE SEPTIEMBRE DE 1888</td>\n",
       "      <td>NaN</td>\n",
       "      <td>SI</td>\n",
       "      <td>14</td>\n",
       "      <td>173000</td>\n",
       "      <td>NaN</td>\n",
       "      <td>105</td>\n",
       "      <td>882</td>\n",
       "      <td>NaN</td>\n",
       "      <td>BALCON TERRAZA</td>\n",
       "      <td>1647.6</td>\n",
       "      <td>2001</td>\n",
       "    </tr>\n",
       "    <tr>\n",
       "      <th>1</th>\n",
       "      <td>NaN</td>\n",
       "      <td>NaN</td>\n",
       "      <td>2</td>\n",
       "      <td>PALERMO</td>\n",
       "      <td>NaN</td>\n",
       "      <td>NaN</td>\n",
       "      <td>11 DE SEPTIEMBRE DE 1888</td>\n",
       "      <td>NaN</td>\n",
       "      <td>SI</td>\n",
       "      <td>14</td>\n",
       "      <td>169000</td>\n",
       "      <td>NaN</td>\n",
       "      <td>180</td>\n",
       "      <td>1050</td>\n",
       "      <td>NaN</td>\n",
       "      <td>PATIO</td>\n",
       "      <td>938.9</td>\n",
       "      <td>2001</td>\n",
       "    </tr>\n",
       "    <tr>\n",
       "      <th>2</th>\n",
       "      <td>NaN</td>\n",
       "      <td>NaN</td>\n",
       "      <td>2</td>\n",
       "      <td>PALERMO</td>\n",
       "      <td>NaN</td>\n",
       "      <td>NaN</td>\n",
       "      <td>11 DE SEPTIEMBRE DE 1888</td>\n",
       "      <td>NaN</td>\n",
       "      <td>SI</td>\n",
       "      <td>14</td>\n",
       "      <td>185000</td>\n",
       "      <td>NaN</td>\n",
       "      <td>165</td>\n",
       "      <td>1144</td>\n",
       "      <td>NaN</td>\n",
       "      <td>BALCON</td>\n",
       "      <td>1121.2</td>\n",
       "      <td>2001</td>\n",
       "    </tr>\n",
       "    <tr>\n",
       "      <th>3</th>\n",
       "      <td>NaN</td>\n",
       "      <td>NaN</td>\n",
       "      <td>2</td>\n",
       "      <td>BELGRANO</td>\n",
       "      <td>NaN</td>\n",
       "      <td>NaN</td>\n",
       "      <td>11 DE SEPTIEMBRE DE 1888</td>\n",
       "      <td>NaN</td>\n",
       "      <td>SI</td>\n",
       "      <td>13</td>\n",
       "      <td>198000</td>\n",
       "      <td>NaN</td>\n",
       "      <td>202</td>\n",
       "      <td>1846</td>\n",
       "      <td>NaN</td>\n",
       "      <td>NaN</td>\n",
       "      <td>980.2</td>\n",
       "      <td>2001</td>\n",
       "    </tr>\n",
       "    <tr>\n",
       "      <th>4</th>\n",
       "      <td>NaN</td>\n",
       "      <td>NaN</td>\n",
       "      <td>0</td>\n",
       "      <td>BELGRANO</td>\n",
       "      <td>NaN</td>\n",
       "      <td>NaN</td>\n",
       "      <td>11 DE SEPTIEMBRE DE 1888</td>\n",
       "      <td>NaN</td>\n",
       "      <td>NaN</td>\n",
       "      <td>13</td>\n",
       "      <td>50000</td>\n",
       "      <td>NaN</td>\n",
       "      <td>63</td>\n",
       "      <td>2130</td>\n",
       "      <td>NaN</td>\n",
       "      <td>PATIO</td>\n",
       "      <td>793.7</td>\n",
       "      <td>2001</td>\n",
       "    </tr>\n",
       "  </tbody>\n",
       "</table>\n",
       "</div>"
      ],
      "text/plain": [
       "  AMBIENTES  ANTIGUEDAD BANOS    BARRIO BAULERA  BA¥OS  \\\n",
       "0       NaN  A ESTRENAR     2   PALERMO     NaN    NaN   \n",
       "1       NaN         NaN     2   PALERMO     NaN    NaN   \n",
       "2       NaN         NaN     2   PALERMO     NaN    NaN   \n",
       "3       NaN         NaN     2  BELGRANO     NaN    NaN   \n",
       "4       NaN         NaN     0  BELGRANO     NaN    NaN   \n",
       "\n",
       "                      CALLE CALLES COCHERA COMUNA  DOLARES LAVADERO   M2  \\\n",
       "0  11 DE SEPTIEMBRE DE 1888    NaN      SI     14   173000      NaN  105   \n",
       "1  11 DE SEPTIEMBRE DE 1888    NaN      SI     14   169000      NaN  180   \n",
       "2  11 DE SEPTIEMBRE DE 1888    NaN      SI     14   185000      NaN  165   \n",
       "3  11 DE SEPTIEMBRE DE 1888    NaN      SI     13   198000      NaN  202   \n",
       "4  11 DE SEPTIEMBRE DE 1888    NaN     NaN     13    50000      NaN   63   \n",
       "\n",
       "   NUMERO ORIENT         TERRAZA  U_S_M2  YEAR  \n",
       "0     882    NaN  BALCON TERRAZA  1647.6  2001  \n",
       "1    1050    NaN           PATIO   938.9  2001  \n",
       "2    1144    NaN          BALCON  1121.2  2001  \n",
       "3    1846    NaN             NaN   980.2  2001  \n",
       "4    2130    NaN           PATIO   793.7  2001  "
      ]
     },
     "execution_count": 14,
     "metadata": {},
     "output_type": "execute_result"
    }
   ],
   "source": [
    "df_completo = get_data(years=range(2001, 2015), replacements=replacements, recalculate=False)\n",
    "df_completo.head()"
   ]
  },
  {
   "cell_type": "markdown",
   "metadata": {},
   "source": [
    "El año 2014 es el que más cantidad de datos tiene."
   ]
  },
  {
   "cell_type": "code",
   "execution_count": 70,
   "metadata": {
    "collapsed": true
   },
   "outputs": [],
   "source": [
    "def check_null_values(df, indic, return_nulls=False):\n",
    "    nulls = df[pd.isnull(df[indic])][indic]\n",
    "    print \"{}/{} ({:.2%}) NaNs in {}\".format(len(nulls), len(df), len(nulls)/float(len(df)), indic)\n",
    "\n",
    "    if return_nulls:\n",
    "        return nulls"
   ]
  },
  {
   "cell_type": "code",
   "execution_count": 74,
   "metadata": {
    "collapsed": false
   },
   "outputs": [
    {
     "name": "stdout",
     "output_type": "stream",
     "text": [
      "47525/141938 (33.48%) NaNs in AMBIENTES\n",
      "None\n",
      "45884/141938 (32.33%) NaNs in ANTIGUEDAD\n",
      "None\n",
      "64209/141938 (45.24%) NaNs in BANOS\n",
      "None\n",
      "0/141938 (0.00%) NaNs in BARRIO\n",
      "None\n",
      "130134/141938 (91.68%) NaNs in BAULERA\n",
      "None\n",
      "\n",
      "'ascii' codec can't encode character u'\\xa5' in position 2: ordinal not in range(128) BA¥OS \n",
      "\n",
      "7524/141938 (5.30%) NaNs in CALLE\n",
      "None\n",
      "134414/141938 (94.70%) NaNs in CALLES\n",
      "None\n",
      "119423/141938 (84.14%) NaNs in COCHERA\n",
      "None\n",
      "0/141938 (0.00%) NaNs in COMUNA\n",
      "None\n",
      "0/141938 (0.00%) NaNs in DOLARES\n",
      "None\n",
      "108870/141938 (76.70%) NaNs in LAVADERO\n",
      "None\n",
      "0/141938 (0.00%) NaNs in M2\n",
      "None\n",
      "0/141938 (0.00%) NaNs in NUMERO\n",
      "None\n",
      "73933/141938 (52.09%) NaNs in ORIENT\n",
      "None\n",
      "85344/141938 (60.13%) NaNs in TERRAZA\n",
      "None\n",
      "0/141938 (0.00%) NaNs in U_S_M2\n",
      "None\n",
      "0/141938 (0.00%) NaNs in YEAR\n",
      "None\n"
     ]
    }
   ],
   "source": [
    "for field in df_completo.columns:\n",
    "    try:\n",
    "        print check_null_values(df_completo, field.decode(\"latin-1\"))\n",
    "    except Exception as inst:\n",
    "        print \"\\n\", inst, field, \"\\n\""
   ]
  },
  {
   "cell_type": "code",
   "execution_count": 4,
   "metadata": {
    "collapsed": false
   },
   "outputs": [
    {
     "data": {
      "text/html": [
       "<div>\n",
       "<table border=\"1\" class=\"dataframe\">\n",
       "  <thead>\n",
       "    <tr style=\"text-align: right;\">\n",
       "      <th></th>\n",
       "      <th>BARRIO</th>\n",
       "      <th>CALLE</th>\n",
       "      <th>COMUNA</th>\n",
       "      <th>DOLARES</th>\n",
       "      <th>FECHA</th>\n",
       "      <th>LAT</th>\n",
       "      <th>LON</th>\n",
       "      <th>M2</th>\n",
       "      <th>NUMERO</th>\n",
       "      <th>U_S_M2</th>\n",
       "      <th>CO_FRACC</th>\n",
       "      <th>CO_FRAC_RA</th>\n",
       "    </tr>\n",
       "    <tr>\n",
       "      <th>YEAR</th>\n",
       "      <th></th>\n",
       "      <th></th>\n",
       "      <th></th>\n",
       "      <th></th>\n",
       "      <th></th>\n",
       "      <th></th>\n",
       "      <th></th>\n",
       "      <th></th>\n",
       "      <th></th>\n",
       "      <th></th>\n",
       "      <th></th>\n",
       "      <th></th>\n",
       "    </tr>\n",
       "  </thead>\n",
       "  <tbody>\n",
       "    <tr>\n",
       "      <th>2001</th>\n",
       "      <td>1342</td>\n",
       "      <td>1342</td>\n",
       "      <td>1342</td>\n",
       "      <td>1342</td>\n",
       "      <td>1342</td>\n",
       "      <td>1342</td>\n",
       "      <td>1342</td>\n",
       "      <td>1342</td>\n",
       "      <td>1342</td>\n",
       "      <td>1342</td>\n",
       "      <td>1342</td>\n",
       "      <td>1342</td>\n",
       "    </tr>\n",
       "    <tr>\n",
       "      <th>2002</th>\n",
       "      <td>368</td>\n",
       "      <td>368</td>\n",
       "      <td>368</td>\n",
       "      <td>368</td>\n",
       "      <td>368</td>\n",
       "      <td>368</td>\n",
       "      <td>368</td>\n",
       "      <td>368</td>\n",
       "      <td>368</td>\n",
       "      <td>368</td>\n",
       "      <td>368</td>\n",
       "      <td>368</td>\n",
       "    </tr>\n",
       "    <tr>\n",
       "      <th>2003</th>\n",
       "      <td>569</td>\n",
       "      <td>569</td>\n",
       "      <td>569</td>\n",
       "      <td>569</td>\n",
       "      <td>558</td>\n",
       "      <td>569</td>\n",
       "      <td>569</td>\n",
       "      <td>569</td>\n",
       "      <td>569</td>\n",
       "      <td>569</td>\n",
       "      <td>569</td>\n",
       "      <td>569</td>\n",
       "    </tr>\n",
       "    <tr>\n",
       "      <th>2004</th>\n",
       "      <td>1211</td>\n",
       "      <td>1213</td>\n",
       "      <td>1212</td>\n",
       "      <td>1213</td>\n",
       "      <td>1213</td>\n",
       "      <td>1213</td>\n",
       "      <td>1213</td>\n",
       "      <td>1213</td>\n",
       "      <td>1213</td>\n",
       "      <td>1213</td>\n",
       "      <td>1211</td>\n",
       "      <td>1211</td>\n",
       "    </tr>\n",
       "    <tr>\n",
       "      <th>2005</th>\n",
       "      <td>1036</td>\n",
       "      <td>1036</td>\n",
       "      <td>1036</td>\n",
       "      <td>1036</td>\n",
       "      <td>1036</td>\n",
       "      <td>1036</td>\n",
       "      <td>1036</td>\n",
       "      <td>1036</td>\n",
       "      <td>1036</td>\n",
       "      <td>1036</td>\n",
       "      <td>1036</td>\n",
       "      <td>1036</td>\n",
       "    </tr>\n",
       "    <tr>\n",
       "      <th>2006</th>\n",
       "      <td>1241</td>\n",
       "      <td>1241</td>\n",
       "      <td>1241</td>\n",
       "      <td>1241</td>\n",
       "      <td>1241</td>\n",
       "      <td>1241</td>\n",
       "      <td>1241</td>\n",
       "      <td>1241</td>\n",
       "      <td>1241</td>\n",
       "      <td>1241</td>\n",
       "      <td>1240</td>\n",
       "      <td>1240</td>\n",
       "    </tr>\n",
       "    <tr>\n",
       "      <th>2007</th>\n",
       "      <td>1707</td>\n",
       "      <td>1707</td>\n",
       "      <td>1707</td>\n",
       "      <td>1707</td>\n",
       "      <td>1707</td>\n",
       "      <td>1707</td>\n",
       "      <td>1707</td>\n",
       "      <td>1707</td>\n",
       "      <td>1707</td>\n",
       "      <td>1707</td>\n",
       "      <td>1707</td>\n",
       "      <td>1707</td>\n",
       "    </tr>\n",
       "    <tr>\n",
       "      <th>2008</th>\n",
       "      <td>889</td>\n",
       "      <td>889</td>\n",
       "      <td>889</td>\n",
       "      <td>889</td>\n",
       "      <td>889</td>\n",
       "      <td>889</td>\n",
       "      <td>889</td>\n",
       "      <td>889</td>\n",
       "      <td>889</td>\n",
       "      <td>889</td>\n",
       "      <td>889</td>\n",
       "      <td>889</td>\n",
       "    </tr>\n",
       "    <tr>\n",
       "      <th>2009</th>\n",
       "      <td>1455</td>\n",
       "      <td>1455</td>\n",
       "      <td>1455</td>\n",
       "      <td>1455</td>\n",
       "      <td>960</td>\n",
       "      <td>1455</td>\n",
       "      <td>1455</td>\n",
       "      <td>1455</td>\n",
       "      <td>1455</td>\n",
       "      <td>1455</td>\n",
       "      <td>1455</td>\n",
       "      <td>1455</td>\n",
       "    </tr>\n",
       "    <tr>\n",
       "      <th>2010</th>\n",
       "      <td>878</td>\n",
       "      <td>878</td>\n",
       "      <td>878</td>\n",
       "      <td>878</td>\n",
       "      <td>878</td>\n",
       "      <td>878</td>\n",
       "      <td>878</td>\n",
       "      <td>878</td>\n",
       "      <td>878</td>\n",
       "      <td>878</td>\n",
       "      <td>878</td>\n",
       "      <td>878</td>\n",
       "    </tr>\n",
       "    <tr>\n",
       "      <th>2011</th>\n",
       "      <td>1163</td>\n",
       "      <td>1163</td>\n",
       "      <td>1163</td>\n",
       "      <td>1163</td>\n",
       "      <td>1163</td>\n",
       "      <td>1163</td>\n",
       "      <td>1163</td>\n",
       "      <td>1163</td>\n",
       "      <td>1163</td>\n",
       "      <td>1163</td>\n",
       "      <td>1163</td>\n",
       "      <td>1163</td>\n",
       "    </tr>\n",
       "    <tr>\n",
       "      <th>2013</th>\n",
       "      <td>1163</td>\n",
       "      <td>1163</td>\n",
       "      <td>1163</td>\n",
       "      <td>1163</td>\n",
       "      <td>1163</td>\n",
       "      <td>1163</td>\n",
       "      <td>1163</td>\n",
       "      <td>1163</td>\n",
       "      <td>1163</td>\n",
       "      <td>1163</td>\n",
       "      <td>1162</td>\n",
       "      <td>1162</td>\n",
       "    </tr>\n",
       "    <tr>\n",
       "      <th>2014</th>\n",
       "      <td>1861</td>\n",
       "      <td>1861</td>\n",
       "      <td>1861</td>\n",
       "      <td>1861</td>\n",
       "      <td>1312</td>\n",
       "      <td>1861</td>\n",
       "      <td>1861</td>\n",
       "      <td>1861</td>\n",
       "      <td>1861</td>\n",
       "      <td>1861</td>\n",
       "      <td>1861</td>\n",
       "      <td>1861</td>\n",
       "    </tr>\n",
       "  </tbody>\n",
       "</table>\n",
       "</div>"
      ],
      "text/plain": [
       "      BARRIO  CALLE  COMUNA  DOLARES  FECHA   LAT   LON    M2  NUMERO  U_S_M2  \\\n",
       "YEAR                                                                            \n",
       "2001    1342   1342    1342     1342   1342  1342  1342  1342    1342    1342   \n",
       "2002     368    368     368      368    368   368   368   368     368     368   \n",
       "2003     569    569     569      569    558   569   569   569     569     569   \n",
       "2004    1211   1213    1212     1213   1213  1213  1213  1213    1213    1213   \n",
       "2005    1036   1036    1036     1036   1036  1036  1036  1036    1036    1036   \n",
       "2006    1241   1241    1241     1241   1241  1241  1241  1241    1241    1241   \n",
       "2007    1707   1707    1707     1707   1707  1707  1707  1707    1707    1707   \n",
       "2008     889    889     889      889    889   889   889   889     889     889   \n",
       "2009    1455   1455    1455     1455    960  1455  1455  1455    1455    1455   \n",
       "2010     878    878     878      878    878   878   878   878     878     878   \n",
       "2011    1163   1163    1163     1163   1163  1163  1163  1163    1163    1163   \n",
       "2013    1163   1163    1163     1163   1163  1163  1163  1163    1163    1163   \n",
       "2014    1861   1861    1861     1861   1312  1861  1861  1861    1861    1861   \n",
       "\n",
       "      CO_FRACC  CO_FRAC_RA  \n",
       "YEAR                        \n",
       "2001      1342        1342  \n",
       "2002       368         368  \n",
       "2003       569         569  \n",
       "2004      1211        1211  \n",
       "2005      1036        1036  \n",
       "2006      1240        1240  \n",
       "2007      1707        1707  \n",
       "2008       889         889  \n",
       "2009      1455        1455  \n",
       "2010       878         878  \n",
       "2011      1163        1163  \n",
       "2013      1162        1162  \n",
       "2014      1861        1861  "
      ]
     },
     "execution_count": 4,
     "metadata": {},
     "output_type": "execute_result"
    }
   ],
   "source": [
    "df_completo.groupby(\"YEAR\").count()"
   ]
  },
  {
   "cell_type": "markdown",
   "metadata": {},
   "source": [
    "No se utilizarán datos anteriores a 2006."
   ]
  },
  {
   "cell_type": "code",
   "execution_count": 5,
   "metadata": {
    "collapsed": false
   },
   "outputs": [],
   "source": [
    "df = df_completo[df_completo[\"YEAR\"] > 2005]"
   ]
  },
  {
   "cell_type": "markdown",
   "metadata": {},
   "source": [
    "Se calculan los precios promedio de los terrenos para distintos niveles de agregación."
   ]
  },
  {
   "cell_type": "code",
   "execution_count": 6,
   "metadata": {
    "collapsed": false
   },
   "outputs": [],
   "source": [
    "def calc_average_usd_m2(df, pivot_unit=None, date_unit=\"YEAR\"):\n",
    "    if pivot_unit:\n",
    "        value = pd.pivot_table(df, values='DOLARES', index=[pivot_unit], columns=[date_unit], aggfunc=np.sum)\n",
    "        m2 = pd.pivot_table(df, values='M2', index=[pivot_unit], columns=[date_unit], aggfunc=np.sum)\n",
    "    else:\n",
    "        value = pd.pivot_table(df, values='DOLARES', columns=[date_unit], aggfunc=np.sum)\n",
    "        m2 = pd.pivot_table(df, values='M2', columns=[date_unit], aggfunc=np.sum)\n",
    "    return value / m2"
   ]
  },
  {
   "cell_type": "code",
   "execution_count": 7,
   "metadata": {
    "collapsed": false
   },
   "outputs": [],
   "source": [
    "comunas = calc_average_usd_m2(df, \"COMUNA\")\n",
    "barrios = calc_average_usd_m2(df, \"BARRIO\")\n",
    "fracciones = calc_average_usd_m2(df, \"CO_FRACC\")\n",
    "caba = calc_average_usd_m2(df)"
   ]
  },
  {
   "cell_type": "markdown",
   "metadata": {},
   "source": [
    "Eliminamos los promedios realizados con pocos datos. El número indica el mínimo de datos exigido para calcular cada promedio."
   ]
  },
  {
   "cell_type": "code",
   "execution_count": 8,
   "metadata": {
    "collapsed": false
   },
   "outputs": [
    {
     "name": "stdout",
     "output_type": "stream",
     "text": [
      "COMUNA start with  120 values\n",
      "COMUNA end with 118 values \n",
      "\n",
      "BARRIO start with  373 values\n",
      "BARRIO end with 346 values \n",
      "\n",
      "CO_FRACC start with  2204 values\n",
      "CO_FRACC end with 1434 values \n",
      "\n"
     ]
    }
   ],
   "source": [
    "remove_scarce_data(comunas, df, \"COMUNA\", 10)\n",
    "remove_scarce_data(barrios, df, \"BARRIO\", 5)\n",
    "remove_scarce_data(fracciones, df, \"CO_FRACC\", 3)"
   ]
  },
  {
   "cell_type": "markdown",
   "metadata": {},
   "source": [
    "Cantidad de unidades ofertadas por precio del m2."
   ]
  },
  {
   "cell_type": "code",
   "execution_count": 9,
   "metadata": {
    "collapsed": false
   },
   "outputs": [
    {
     "data": {
      "image/png": "[encoded data removed]",
      "text/plain": [
       "<matplotlib.figure.Figure at 0x10b5df210>"
      ]
     },
     "metadata": {},
     "output_type": "display_data"
    }
   ],
   "source": [
    "hists = df[\"U_S_M2\"][df[\"U_S_M2\"] < 6000].hist(by=df[\"YEAR\"], bins=50, figsize=(15, 10))\n",
    "hists = [hist.set_ylim((0, 210)) for row in hists for hist in row]"
   ]
  },
  {
   "cell_type": "markdown",
   "metadata": {},
   "source": [
    "Precio promedio en la caba del m2 de terreno ofertado."
   ]
  },
  {
   "cell_type": "code",
   "execution_count": 10,
   "metadata": {
    "collapsed": false
   },
   "outputs": [
    {
     "data": {
      "text/plain": [
       "YEAR\n",
       "2006     968.110544\n",
       "2007     976.008934\n",
       "2008    1090.986450\n",
       "2009     963.594884\n",
       "2010    1239.332564\n",
       "2011    1303.560424\n",
       "2013    1642.565605\n",
       "2014    1583.043292\n",
       "dtype: float64"
      ]
     },
     "execution_count": 10,
     "metadata": {},
     "output_type": "execute_result"
    }
   ],
   "source": [
    "caba"
   ]
  },
  {
   "cell_type": "code",
   "execution_count": 11,
   "metadata": {
    "collapsed": false
   },
   "outputs": [
    {
     "data": {
      "text/plain": [
       "<matplotlib.axes._subplots.AxesSubplot at 0x10ad0b850>"
      ]
     },
     "execution_count": 11,
     "metadata": {},
     "output_type": "execute_result"
    },
    {
     "data": {
      "image/png": "[encoded data removed]",
      "text/plain": [
       "<matplotlib.figure.Figure at 0x10bdb5150>"
      ]
     },
     "metadata": {},
     "output_type": "display_data"
    }
   ],
   "source": [
    "caba.plot(kind=\"line\", figsize=(12, 5))"
   ]
  },
  {
   "cell_type": "markdown",
   "metadata": {
    "collapsed": true
   },
   "source": [
    "Testeamos la posibilidad de actualizar los precios por índices a partir del promedio de barrios o comunas, en aquellos casos donde la pérdida de variabilidad entre fracciones dentro del mismo barrio o comuna no parezca demasiado grave."
   ]
  },
  {
   "cell_type": "code",
   "execution_count": 12,
   "metadata": {
    "collapsed": false
   },
   "outputs": [
    {
     "data": {
      "text/html": [
       "<div>\n",
       "<table border=\"1\" class=\"dataframe\">\n",
       "  <thead>\n",
       "    <tr style=\"text-align: right;\">\n",
       "      <th>BARRIO</th>\n",
       "      <th>AGRONOMIA</th>\n",
       "      <th>ALMAGRO</th>\n",
       "      <th>BALVANERA</th>\n",
       "      <th>BARRACAS</th>\n",
       "      <th>BELGRANO</th>\n",
       "      <th>BOCA</th>\n",
       "      <th>BOEDO</th>\n",
       "      <th>CABALLITO</th>\n",
       "      <th>CHACARITA</th>\n",
       "      <th>COGHLAN</th>\n",
       "      <th>...</th>\n",
       "      <th>VILLA GRAL. MITRE</th>\n",
       "      <th>VILLA LUGANO</th>\n",
       "      <th>VILLA LURO</th>\n",
       "      <th>VILLA ORTUZAR</th>\n",
       "      <th>VILLA PUEYRREDON</th>\n",
       "      <th>VILLA REAL</th>\n",
       "      <th>VILLA RIACHUELO</th>\n",
       "      <th>VILLA SANTA RITA</th>\n",
       "      <th>VILLA SOLDATI</th>\n",
       "      <th>VILLA URQUIZA</th>\n",
       "    </tr>\n",
       "    <tr>\n",
       "      <th>YEAR</th>\n",
       "      <th></th>\n",
       "      <th></th>\n",
       "      <th></th>\n",
       "      <th></th>\n",
       "      <th></th>\n",
       "      <th></th>\n",
       "      <th></th>\n",
       "      <th></th>\n",
       "      <th></th>\n",
       "      <th></th>\n",
       "      <th></th>\n",
       "      <th></th>\n",
       "      <th></th>\n",
       "      <th></th>\n",
       "      <th></th>\n",
       "      <th></th>\n",
       "      <th></th>\n",
       "      <th></th>\n",
       "      <th></th>\n",
       "      <th></th>\n",
       "      <th></th>\n",
       "    </tr>\n",
       "  </thead>\n",
       "  <tbody>\n",
       "    <tr>\n",
       "      <th>2006</th>\n",
       "      <td>NaN</td>\n",
       "      <td>NaN</td>\n",
       "      <td>NaN</td>\n",
       "      <td>NaN</td>\n",
       "      <td>NaN</td>\n",
       "      <td>NaN</td>\n",
       "      <td>NaN</td>\n",
       "      <td>NaN</td>\n",
       "      <td>NaN</td>\n",
       "      <td>NaN</td>\n",
       "      <td>...</td>\n",
       "      <td>NaN</td>\n",
       "      <td>NaN</td>\n",
       "      <td>NaN</td>\n",
       "      <td>NaN</td>\n",
       "      <td>NaN</td>\n",
       "      <td>NaN</td>\n",
       "      <td>NaN</td>\n",
       "      <td>NaN</td>\n",
       "      <td>NaN</td>\n",
       "      <td>NaN</td>\n",
       "    </tr>\n",
       "    <tr>\n",
       "      <th>2007</th>\n",
       "      <td>0.397675</td>\n",
       "      <td>0.083704</td>\n",
       "      <td>0.117623</td>\n",
       "      <td>0.511214</td>\n",
       "      <td>0.166136</td>\n",
       "      <td>-0.108624</td>\n",
       "      <td>0.184553</td>\n",
       "      <td>0.422800</td>\n",
       "      <td>0.250802</td>\n",
       "      <td>-0.088308</td>\n",
       "      <td>...</td>\n",
       "      <td>-0.078325</td>\n",
       "      <td>1.645802</td>\n",
       "      <td>0.032167</td>\n",
       "      <td>-0.015318</td>\n",
       "      <td>-0.033142</td>\n",
       "      <td>-0.051134</td>\n",
       "      <td>0.478956</td>\n",
       "      <td>-0.130968</td>\n",
       "      <td>NaN</td>\n",
       "      <td>0.044493</td>\n",
       "    </tr>\n",
       "    <tr>\n",
       "      <th>2008</th>\n",
       "      <td>0.267670</td>\n",
       "      <td>0.165592</td>\n",
       "      <td>0.660736</td>\n",
       "      <td>1.577543</td>\n",
       "      <td>-0.044664</td>\n",
       "      <td>0.634175</td>\n",
       "      <td>-0.141599</td>\n",
       "      <td>-0.041607</td>\n",
       "      <td>0.297358</td>\n",
       "      <td>0.215336</td>\n",
       "      <td>...</td>\n",
       "      <td>1.056184</td>\n",
       "      <td>0.381845</td>\n",
       "      <td>1.244619</td>\n",
       "      <td>0.175026</td>\n",
       "      <td>0.321132</td>\n",
       "      <td>NaN</td>\n",
       "      <td>NaN</td>\n",
       "      <td>-0.084012</td>\n",
       "      <td>NaN</td>\n",
       "      <td>0.056554</td>\n",
       "    </tr>\n",
       "    <tr>\n",
       "      <th>2009</th>\n",
       "      <td>-0.344707</td>\n",
       "      <td>-0.155409</td>\n",
       "      <td>-0.439074</td>\n",
       "      <td>-0.474834</td>\n",
       "      <td>-0.132134</td>\n",
       "      <td>0.180430</td>\n",
       "      <td>-0.284028</td>\n",
       "      <td>0.021106</td>\n",
       "      <td>-0.250730</td>\n",
       "      <td>-0.099466</td>\n",
       "      <td>...</td>\n",
       "      <td>-0.490249</td>\n",
       "      <td>0.072583</td>\n",
       "      <td>-0.422538</td>\n",
       "      <td>-0.233311</td>\n",
       "      <td>-0.122063</td>\n",
       "      <td>NaN</td>\n",
       "      <td>NaN</td>\n",
       "      <td>0.593822</td>\n",
       "      <td>NaN</td>\n",
       "      <td>-0.042757</td>\n",
       "    </tr>\n",
       "    <tr>\n",
       "      <th>2010</th>\n",
       "      <td>0.333620</td>\n",
       "      <td>0.557764</td>\n",
       "      <td>0.781586</td>\n",
       "      <td>0.019018</td>\n",
       "      <td>0.567729</td>\n",
       "      <td>0.023731</td>\n",
       "      <td>0.748596</td>\n",
       "      <td>0.241701</td>\n",
       "      <td>0.160324</td>\n",
       "      <td>0.027023</td>\n",
       "      <td>...</td>\n",
       "      <td>0.537032</td>\n",
       "      <td>NaN</td>\n",
       "      <td>0.490439</td>\n",
       "      <td>1.390584</td>\n",
       "      <td>0.351387</td>\n",
       "      <td>NaN</td>\n",
       "      <td>NaN</td>\n",
       "      <td>0.093649</td>\n",
       "      <td>NaN</td>\n",
       "      <td>-0.049068</td>\n",
       "    </tr>\n",
       "    <tr>\n",
       "      <th>2011</th>\n",
       "      <td>-0.006760</td>\n",
       "      <td>0.448182</td>\n",
       "      <td>-0.068476</td>\n",
       "      <td>-0.005512</td>\n",
       "      <td>-0.362477</td>\n",
       "      <td>-0.232949</td>\n",
       "      <td>-0.086557</td>\n",
       "      <td>0.318964</td>\n",
       "      <td>0.336426</td>\n",
       "      <td>-0.046498</td>\n",
       "      <td>...</td>\n",
       "      <td>-0.341811</td>\n",
       "      <td>0.187735</td>\n",
       "      <td>0.115649</td>\n",
       "      <td>-0.251727</td>\n",
       "      <td>0.422208</td>\n",
       "      <td>3.919973</td>\n",
       "      <td>NaN</td>\n",
       "      <td>0.382433</td>\n",
       "      <td>NaN</td>\n",
       "      <td>0.845459</td>\n",
       "    </tr>\n",
       "    <tr>\n",
       "      <th>2013</th>\n",
       "      <td>-0.002789</td>\n",
       "      <td>-0.138715</td>\n",
       "      <td>0.592999</td>\n",
       "      <td>0.590933</td>\n",
       "      <td>0.632586</td>\n",
       "      <td>1.221061</td>\n",
       "      <td>0.379511</td>\n",
       "      <td>-0.135366</td>\n",
       "      <td>0.205028</td>\n",
       "      <td>0.191009</td>\n",
       "      <td>...</td>\n",
       "      <td>1.242999</td>\n",
       "      <td>NaN</td>\n",
       "      <td>0.001048</td>\n",
       "      <td>-0.060519</td>\n",
       "      <td>-0.151541</td>\n",
       "      <td>-0.627639</td>\n",
       "      <td>0.172021</td>\n",
       "      <td>-0.018786</td>\n",
       "      <td>NaN</td>\n",
       "      <td>-0.203511</td>\n",
       "    </tr>\n",
       "    <tr>\n",
       "      <th>2014</th>\n",
       "      <td>-0.027166</td>\n",
       "      <td>-0.279303</td>\n",
       "      <td>-0.016105</td>\n",
       "      <td>0.132701</td>\n",
       "      <td>0.380122</td>\n",
       "      <td>-0.108693</td>\n",
       "      <td>0.031894</td>\n",
       "      <td>-0.045239</td>\n",
       "      <td>-0.318563</td>\n",
       "      <td>0.613298</td>\n",
       "      <td>...</td>\n",
       "      <td>-0.146527</td>\n",
       "      <td>0.585979</td>\n",
       "      <td>0.191075</td>\n",
       "      <td>0.425658</td>\n",
       "      <td>0.095066</td>\n",
       "      <td>-0.252578</td>\n",
       "      <td>NaN</td>\n",
       "      <td>0.114527</td>\n",
       "      <td>NaN</td>\n",
       "      <td>0.048805</td>\n",
       "    </tr>\n",
       "  </tbody>\n",
       "</table>\n",
       "<p>8 rows × 48 columns</p>\n",
       "</div>"
      ],
      "text/plain": [
       "BARRIO  AGRONOMIA   ALMAGRO  BALVANERA  BARRACAS  BELGRANO      BOCA  \\\n",
       "YEAR                                                                   \n",
       "2006          NaN       NaN        NaN       NaN       NaN       NaN   \n",
       "2007     0.397675  0.083704   0.117623  0.511214  0.166136 -0.108624   \n",
       "2008     0.267670  0.165592   0.660736  1.577543 -0.044664  0.634175   \n",
       "2009    -0.344707 -0.155409  -0.439074 -0.474834 -0.132134  0.180430   \n",
       "2010     0.333620  0.557764   0.781586  0.019018  0.567729  0.023731   \n",
       "2011    -0.006760  0.448182  -0.068476 -0.005512 -0.362477 -0.232949   \n",
       "2013    -0.002789 -0.138715   0.592999  0.590933  0.632586  1.221061   \n",
       "2014    -0.027166 -0.279303  -0.016105  0.132701  0.380122 -0.108693   \n",
       "\n",
       "BARRIO     BOEDO  CABALLITO  CHACARITA   COGHLAN      ...        \\\n",
       "YEAR                                                  ...         \n",
       "2006         NaN        NaN        NaN       NaN      ...         \n",
       "2007    0.184553   0.422800   0.250802 -0.088308      ...         \n",
       "2008   -0.141599  -0.041607   0.297358  0.215336      ...         \n",
       "2009   -0.284028   0.021106  -0.250730 -0.099466      ...         \n",
       "2010    0.748596   0.241701   0.160324  0.027023      ...         \n",
       "2011   -0.086557   0.318964   0.336426 -0.046498      ...         \n",
       "2013    0.379511  -0.135366   0.205028  0.191009      ...         \n",
       "2014    0.031894  -0.045239  -0.318563  0.613298      ...         \n",
       "\n",
       "BARRIO  VILLA GRAL. MITRE  VILLA LUGANO  VILLA LURO  VILLA ORTUZAR  \\\n",
       "YEAR                                                                 \n",
       "2006                  NaN           NaN         NaN            NaN   \n",
       "2007            -0.078325      1.645802    0.032167      -0.015318   \n",
       "2008             1.056184      0.381845    1.244619       0.175026   \n",
       "2009            -0.490249      0.072583   -0.422538      -0.233311   \n",
       "2010             0.537032           NaN    0.490439       1.390584   \n",
       "2011            -0.341811      0.187735    0.115649      -0.251727   \n",
       "2013             1.242999           NaN    0.001048      -0.060519   \n",
       "2014            -0.146527      0.585979    0.191075       0.425658   \n",
       "\n",
       "BARRIO  VILLA PUEYRREDON  VILLA REAL  VILLA RIACHUELO  VILLA SANTA RITA  \\\n",
       "YEAR                                                                      \n",
       "2006                 NaN         NaN              NaN               NaN   \n",
       "2007           -0.033142   -0.051134         0.478956         -0.130968   \n",
       "2008            0.321132         NaN              NaN         -0.084012   \n",
       "2009           -0.122063         NaN              NaN          0.593822   \n",
       "2010            0.351387         NaN              NaN          0.093649   \n",
       "2011            0.422208    3.919973              NaN          0.382433   \n",
       "2013           -0.151541   -0.627639         0.172021         -0.018786   \n",
       "2014            0.095066   -0.252578              NaN          0.114527   \n",
       "\n",
       "BARRIO  VILLA SOLDATI  VILLA URQUIZA  \n",
       "YEAR                                  \n",
       "2006              NaN            NaN  \n",
       "2007              NaN       0.044493  \n",
       "2008              NaN       0.056554  \n",
       "2009              NaN      -0.042757  \n",
       "2010              NaN      -0.049068  \n",
       "2011              NaN       0.845459  \n",
       "2013              NaN      -0.203511  \n",
       "2014              NaN       0.048805  \n",
       "\n",
       "[8 rows x 48 columns]"
      ]
     },
     "execution_count": 12,
     "metadata": {},
     "output_type": "execute_result"
    }
   ],
   "source": [
    "var_comuna = comunas.transpose().pct_change()\n",
    "var_barrio = barrios.transpose().pct_change()\n",
    "var_fracc = fracciones.transpose().pct_change()\n",
    "var_barrio"
   ]
  },
  {
   "cell_type": "markdown",
   "metadata": {},
   "source": [
    "Creamos un data frame con las variaciones por fracción censal y período, para testear modelos que predigan estas variaciones con el promedio barrial o comunal."
   ]
  },
  {
   "cell_type": "code",
   "execution_count": 13,
   "metadata": {
    "collapsed": false
   },
   "outputs": [
    {
     "data": {
      "text/html": [
       "<div>\n",
       "<table border=\"1\" class=\"dataframe\">\n",
       "  <thead>\n",
       "    <tr style=\"text-align: right;\">\n",
       "      <th></th>\n",
       "      <th></th>\n",
       "      <th>var_fracc</th>\n",
       "      <th>COMUNA</th>\n",
       "      <th>var_comuna</th>\n",
       "      <th>BARRIO</th>\n",
       "      <th>var_barrio</th>\n",
       "    </tr>\n",
       "    <tr>\n",
       "      <th>CO_FRACC</th>\n",
       "      <th>periodo</th>\n",
       "      <th></th>\n",
       "      <th></th>\n",
       "      <th></th>\n",
       "      <th></th>\n",
       "      <th></th>\n",
       "    </tr>\n",
       "  </thead>\n",
       "  <tbody>\n",
       "  </tbody>\n",
       "</table>\n",
       "</div>"
      ],
      "text/plain": [
       "Empty DataFrame\n",
       "Columns: [var_fracc, COMUNA, var_comuna, BARRIO, var_barrio]\n",
       "Index: []"
      ]
     },
     "execution_count": 13,
     "metadata": {},
     "output_type": "execute_result"
    }
   ],
   "source": [
    "df_vars = pd.DataFrame(columns=[\"CO_FRACC\", \"periodo\", \"var_fracc\", \n",
    "                                \"COMUNA\", \"var_comuna\", \"BARRIO\", \"var_barrio\"]).set_index([\"CO_FRACC\", \"periodo\"])\n",
    "df_vars"
   ]
  },
  {
   "cell_type": "code",
   "execution_count": 14,
   "metadata": {
    "collapsed": false
   },
   "outputs": [],
   "source": [
    "def populate_with_vars(df_vars, var_fracc, var_comuna, var_barrio, df_divs):\n",
    "    for row in var_fracc.iterrows():\n",
    "        period = row[0]\n",
    "        for fracc in var_fracc.columns:\n",
    "            value = row[1][fracc]\n",
    "            \n",
    "            if pd.notnull(value):\n",
    "                comuna = df_divs[df_divs[\"CO_FRACC\"] == fracc][\"COMUNA\"].iloc[0]\n",
    "                barrio = df_divs[df_divs[\"CO_FRACC\"] == fracc][\"BARRIO\"].iloc[0]\n",
    "                df_vars.ix[(fracc, period), :] = [value, comuna, var_comuna[comuna][period], \n",
    "                                                  barrio, var_barrio[barrio][period]]\n",
    "        "
   ]
  },
  {
   "cell_type": "markdown",
   "metadata": {},
   "source": [
    "No utilizamos las variaciones 2011-2013 porque corresponden a 2 años juntos."
   ]
  },
  {
   "cell_type": "code",
   "execution_count": 15,
   "metadata": {
    "collapsed": false
   },
   "outputs": [],
   "source": [
    "populate_with_vars(df_vars, var_fracc[~var_fracc.index.isin([2013])], var_comuna, var_barrio, df)"
   ]
  },
  {
   "cell_type": "code",
   "execution_count": 16,
   "metadata": {
    "collapsed": false
   },
   "outputs": [
    {
     "data": {
      "text/plain": [
       "<matplotlib.axes._subplots.AxesSubplot at 0x10e344690>"
      ]
     },
     "execution_count": 16,
     "metadata": {},
     "output_type": "execute_result"
    },
    {
     "name": "stderr",
     "output_type": "stream",
     "text": [
      "/Users/abenassi/anaconda/envs/tod/lib/python2.7/site-packages/matplotlib/collections.py:590: FutureWarning: elementwise comparison failed; returning scalar instead, but in the future will perform elementwise comparison\n",
      "  if self._edgecolors == str('face'):\n"
     ]
    },
    {
     "data": {
      "image/png": "[encoded data removed]",
      "text/plain": [
       "<matplotlib.figure.Figure at 0x10ba8e790>"
      ]
     },
     "metadata": {},
     "output_type": "display_data"
    },
    {
     "data": {
      "image/png": "[encoded data removed]",
      "text/plain": [
       "<matplotlib.figure.Figure at 0x10e2645d0>"
      ]
     },
     "metadata": {},
     "output_type": "display_data"
    }
   ],
   "source": [
    "df_vars.plot(kind=\"scatter\", y=\"var_fracc\", x=\"var_barrio\")\n",
    "df_vars[df_vars[\"var_barrio\"] < 2].plot(kind=\"scatter\", y=\"var_fracc\", x=\"var_barrio\")"
   ]
  },
  {
   "cell_type": "markdown",
   "metadata": {},
   "source": [
    "No parece haber mucha relación, pero miremos el resultado de una regresión lineal."
   ]
  },
  {
   "cell_type": "code",
   "execution_count": 17,
   "metadata": {
    "collapsed": false
   },
   "outputs": [],
   "source": [
    "from sklearn.linear_model import LinearRegression"
   ]
  },
  {
   "cell_type": "markdown",
   "metadata": {},
   "source": [
    "Eliminamos los datos con missings."
   ]
  },
  {
   "cell_type": "code",
   "execution_count": 18,
   "metadata": {
    "collapsed": false
   },
   "outputs": [
    {
     "name": "stdout",
     "output_type": "stream",
     "text": [
      "983 with nans\n",
      "974 without nans\n"
     ]
    }
   ],
   "source": [
    "print len(df_vars), \"with nans\"\n",
    "df_vars_clean = df_vars.dropna()\n",
    "print len(df_vars_clean), \"without nans\""
   ]
  },
  {
   "cell_type": "markdown",
   "metadata": {},
   "source": [
    "Eliminamos los barrios cuyos promedios fueron calculados a partir de muy pocos datos."
   ]
  },
  {
   "cell_type": "code",
   "execution_count": 19,
   "metadata": {
    "collapsed": true
   },
   "outputs": [],
   "source": [
    "def count_fracc_por_barrio(barrio):\n",
    "    return df_vars_clean[df_vars_clean[\"BARRIO\"] == barrio].sum(level=0).count()[\"var_fracc\"]\n",
    "\n",
    "def drop_barrios_per_fracc_amout(df, min_fraccs=3):\n",
    "    for barrio in df[\"BARRIO\"].unique():\n",
    "        if count_fracc_por_barrio(barrio) < min_fraccs:\n",
    "            print barrio, count_fracc_por_barrio(barrio)\n",
    "            df = df[df[\"BARRIO\"] != barrio]\n",
    "    return df"
   ]
  },
  {
   "cell_type": "code",
   "execution_count": 20,
   "metadata": {
    "collapsed": false
   },
   "outputs": [
    {
     "name": "stdout",
     "output_type": "stream",
     "text": [
      "VILLA REAL 2\n",
      "COGHLAN 2\n",
      "AGRONOMIA 1\n",
      "PATERNAL 2\n",
      "VERSALLES 2\n",
      "RECOLETA 1\n",
      "939 datos sin barrios con pocas fracciones\n"
     ]
    }
   ],
   "source": [
    "df_vars_clean = drop_barrios_per_fracc_amout(df_vars_clean, 3)\n",
    "print len(df_vars_clean), \"datos sin barrios con pocas fracciones\""
   ]
  },
  {
   "cell_type": "code",
   "execution_count": 21,
   "metadata": {
    "collapsed": true
   },
   "outputs": [],
   "source": [
    "import statsmodels.formula.api as sm"
   ]
  },
  {
   "cell_type": "code",
   "execution_count": 22,
   "metadata": {
    "collapsed": false
   },
   "outputs": [],
   "source": [
    "df_model = df_vars_clean[[\"var_fracc\", \"var_barrio\"]].astype(float)\n",
    "df_model_filtered = df_model[df_model[\"var_fracc\"] < 2]\n",
    "res = sm.ols(formula=\"var_fracc ~ var_barrio\", data=df_model).fit()"
   ]
  },
  {
   "cell_type": "markdown",
   "metadata": {},
   "source": [
    "Un elevado R2 indicaría que la estructura de precios hacia dentro de los barrios es estable, y que la variabilidad del precio promedio por fracciones censales se explica suficientemente bien con el promedio barrial. Esto justificaría el procedimiento de utilizar datos actualizados por promedio barrial de otros años."
   ]
  },
  {
   "cell_type": "code",
   "execution_count": 23,
   "metadata": {
    "collapsed": false
   },
   "outputs": [
    {
     "data": {
      "text/html": [
       "<table class=\"simpletable\">\n",
       "<caption>OLS Regression Results</caption>\n",
       "<tr>\n",
       "  <th>Dep. Variable:</th>        <td>var_fracc</td>    <th>  R-squared:         </th> <td>   0.092</td>\n",
       "</tr>\n",
       "<tr>\n",
       "  <th>Model:</th>                   <td>OLS</td>       <th>  Adj. R-squared:    </th> <td>   0.091</td>\n",
       "</tr>\n",
       "<tr>\n",
       "  <th>Method:</th>             <td>Least Squares</td>  <th>  F-statistic:       </th> <td>   94.90</td>\n",
       "</tr>\n",
       "<tr>\n",
       "  <th>Date:</th>             <td>Tue, 13 Oct 2015</td> <th>  Prob (F-statistic):</th> <td>2.00e-21</td>\n",
       "</tr>\n",
       "<tr>\n",
       "  <th>Time:</th>                 <td>11:14:37</td>     <th>  Log-Likelihood:    </th> <td> -820.14</td>\n",
       "</tr>\n",
       "<tr>\n",
       "  <th>No. Observations:</th>      <td>   939</td>      <th>  AIC:               </th> <td>   1644.</td>\n",
       "</tr>\n",
       "<tr>\n",
       "  <th>Df Residuals:</th>          <td>   937</td>      <th>  BIC:               </th> <td>   1654.</td>\n",
       "</tr>\n",
       "<tr>\n",
       "  <th>Df Model:</th>              <td>     1</td>      <th>                     </th>     <td> </td>   \n",
       "</tr>\n",
       "<tr>\n",
       "  <th>Covariance Type:</th>      <td>nonrobust</td>    <th>                     </th>     <td> </td>   \n",
       "</tr>\n",
       "</table>\n",
       "<table class=\"simpletable\">\n",
       "<tr>\n",
       "       <td></td>         <th>coef</th>     <th>std err</th>      <th>t</th>      <th>P>|t|</th> <th>[95.0% Conf. Int.]</th> \n",
       "</tr>\n",
       "<tr>\n",
       "  <th>Intercept</th>  <td>    0.1956</td> <td>    0.020</td> <td>    9.647</td> <td> 0.000</td> <td>    0.156     0.235</td>\n",
       "</tr>\n",
       "<tr>\n",
       "  <th>var_barrio</th> <td>    0.5491</td> <td>    0.056</td> <td>    9.741</td> <td> 0.000</td> <td>    0.438     0.660</td>\n",
       "</tr>\n",
       "</table>\n",
       "<table class=\"simpletable\">\n",
       "<tr>\n",
       "  <th>Omnibus:</th>       <td>435.926</td> <th>  Durbin-Watson:     </th> <td>   2.020</td>\n",
       "</tr>\n",
       "<tr>\n",
       "  <th>Prob(Omnibus):</th> <td> 0.000</td>  <th>  Jarque-Bera (JB):  </th> <td>2971.551</td>\n",
       "</tr>\n",
       "<tr>\n",
       "  <th>Skew:</th>          <td> 2.009</td>  <th>  Prob(JB):          </th> <td>    0.00</td>\n",
       "</tr>\n",
       "<tr>\n",
       "  <th>Kurtosis:</th>      <td>10.733</td>  <th>  Cond. No.          </th> <td>    3.03</td>\n",
       "</tr>\n",
       "</table>"
      ],
      "text/plain": [
       "<class 'statsmodels.iolib.summary.Summary'>\n",
       "\"\"\"\n",
       "                            OLS Regression Results                            \n",
       "==============================================================================\n",
       "Dep. Variable:              var_fracc   R-squared:                       0.092\n",
       "Model:                            OLS   Adj. R-squared:                  0.091\n",
       "Method:                 Least Squares   F-statistic:                     94.90\n",
       "Date:                Tue, 13 Oct 2015   Prob (F-statistic):           2.00e-21\n",
       "Time:                        11:14:37   Log-Likelihood:                -820.14\n",
       "No. Observations:                 939   AIC:                             1644.\n",
       "Df Residuals:                     937   BIC:                             1654.\n",
       "Df Model:                           1                                         \n",
       "Covariance Type:            nonrobust                                         \n",
       "==============================================================================\n",
       "                 coef    std err          t      P>|t|      [95.0% Conf. Int.]\n",
       "------------------------------------------------------------------------------\n",
       "Intercept      0.1956      0.020      9.647      0.000         0.156     0.235\n",
       "var_barrio     0.5491      0.056      9.741      0.000         0.438     0.660\n",
       "==============================================================================\n",
       "Omnibus:                      435.926   Durbin-Watson:                   2.020\n",
       "Prob(Omnibus):                  0.000   Jarque-Bera (JB):             2971.551\n",
       "Skew:                           2.009   Prob(JB):                         0.00\n",
       "Kurtosis:                      10.733   Cond. No.                         3.03\n",
       "==============================================================================\n",
       "\n",
       "Warnings:\n",
       "[1] Standard Errors assume that the covariance matrix of the errors is correctly specified.\n",
       "\"\"\""
      ]
     },
     "execution_count": 23,
     "metadata": {},
     "output_type": "execute_result"
    }
   ],
   "source": [
    "res.summary()"
   ]
  },
  {
   "cell_type": "markdown",
   "metadata": {},
   "source": [
    "Replicamos el modelo para cada barrio, algunos barrios sí podrían tener una estructura de precios más estable."
   ]
  },
  {
   "cell_type": "code",
   "execution_count": 24,
   "metadata": {
    "collapsed": false
   },
   "outputs": [],
   "source": [
    "def modelo_por_barrio(barrio):\n",
    "    df_model = df_vars_clean[[\"var_fracc\", \"var_barrio\"]][df_vars_clean[\"BARRIO\"] == barrio].astype(float)\n",
    "    df_model_filtered = df_model[df_model[\"var_fracc\"] < 2]\n",
    "    res = sm.ols(formula=\"var_fracc ~ var_barrio\", data=df_model).fit()\n",
    "    return res.rsquared"
   ]
  },
  {
   "cell_type": "code",
   "execution_count": 25,
   "metadata": {
    "collapsed": false
   },
   "outputs": [
    {
     "data": {
      "text/plain": [
       "PARQUE CHAS          0.506617\n",
       "LINIERS              0.459006\n",
       "SAN NICOLAS          0.419123\n",
       "BOEDO                0.391193\n",
       "NUEVA POMPEYA        0.291256\n",
       "PARQUE PATRICIOS     0.287113\n",
       "ALMAGRO              0.285084\n",
       "MONTSERRAT           0.229572\n",
       "VILLA LURO           0.227159\n",
       "VILLA LUGANO         0.194361\n",
       "FLORESTA             0.186218\n",
       "VILLA DEL PARQUE     0.176667\n",
       "CONSTITUCION         0.156250\n",
       "BELGRANO             0.155746\n",
       "SAN CRISTOBAL        0.144635\n",
       "MONTE CASTRO         0.131370\n",
       "PALERMO              0.130665\n",
       "BOCA                 0.126816\n",
       "FLORES               0.096775\n",
       "VELEZ SARSFIELD      0.084632\n",
       "VILLA PUEYRREDON     0.084418\n",
       "VILLA SANTA RITA     0.083545\n",
       "CABALLITO            0.069633\n",
       "BARRACAS             0.067118\n",
       "VILLA DEVOTO         0.038985\n",
       "VILLA URQUIZA        0.036700\n",
       "MATADEROS            0.034181\n",
       "SAN TELMO            0.031208\n",
       "SAAVEDRA             0.022923\n",
       "PARQUE AVELLANEDA    0.016786\n",
       "VILLA CRESPO         0.016094\n",
       "NUÑEZ                0.015871\n",
       "BALVANERA            0.011102\n",
       "VILLA GRAL. MITRE    0.010311\n",
       "COLEGIALES           0.005685\n",
       "PARQUE CHACABUCO     0.001770\n",
       "CHACARITA            0.000130\n",
       "dtype: float64"
      ]
     },
     "execution_count": 25,
     "metadata": {},
     "output_type": "execute_result"
    }
   ],
   "source": [
    "barrios_modelados = df_vars_clean[\"BARRIO\"].unique()\n",
    "serie = pd.Series(index=barrios_modelados, data=map(modelo_por_barrio, barrios_modelados))\n",
    "serie.sort(ascending=False)\n",
    "serie"
   ]
  },
  {
   "cell_type": "markdown",
   "metadata": {
    "collapsed": true
   },
   "source": [
    "El procedimiento no parece justificable para la mayoría de los barrios (sino todos), nos quedamos con los datos de 2014. Se calcula el precio del m2 de terreno ofertado promedio para aquellas fracciones con por lo menos 3 datos y donde cada dato no represente más de 200.000 m2 de territorio (unas 20 manzanas)."
   ]
  },
  {
   "cell_type": "code",
   "execution_count": 26,
   "metadata": {
    "collapsed": false
   },
   "outputs": [],
   "source": [
    "from scripts import geo_utils\n",
    "\n",
    "def count_data_fraccs(df_fraccs, df_data, div_name=\"CO_FRACC\", year=2014):\n",
    "    return df_data[df_data[\"YEAR\"] == year].groupby(div_name)[div_name].count()\n",
    "\n",
    "def calc_area(df, shp_path):\n",
    "    for id_shape, shape in geo_utils.iter_shp_as_shapely(shp_path):\n",
    "        df.loc[id_shape, \"area\"] = shape.area"
   ]
  },
  {
   "cell_type": "code",
   "execution_count": 27,
   "metadata": {
    "collapsed": false
   },
   "outputs": [
    {
     "name": "stdout",
     "output_type": "stream",
     "text": [
      "CO_FRACC start with  1434 values\n",
      "CO_FRACC end with 1434 values \n",
      "\n"
     ]
    },
    {
     "data": {
      "text/html": [
       "<div>\n",
       "<table border=\"1\" class=\"dataframe\">\n",
       "  <thead>\n",
       "    <tr style=\"text-align: right;\">\n",
       "      <th></th>\n",
       "      <th>2014</th>\n",
       "      <th>count_data</th>\n",
       "      <th>area</th>\n",
       "      <th>data_cover</th>\n",
       "    </tr>\n",
       "    <tr>\n",
       "      <th>CO_FRACC</th>\n",
       "      <th></th>\n",
       "      <th></th>\n",
       "      <th></th>\n",
       "      <th></th>\n",
       "    </tr>\n",
       "  </thead>\n",
       "  <tbody>\n",
       "    <tr>\n",
       "      <th>001_14</th>\n",
       "      <td>2067.437854</td>\n",
       "      <td>3</td>\n",
       "      <td>766949.680521</td>\n",
       "      <td>255649.893507</td>\n",
       "    </tr>\n",
       "    <tr>\n",
       "      <th>004_1</th>\n",
       "      <td>508.804259</td>\n",
       "      <td>4</td>\n",
       "      <td>1383155.463525</td>\n",
       "      <td>345788.865881</td>\n",
       "    </tr>\n",
       "    <tr>\n",
       "      <th>004_2</th>\n",
       "      <td>910.211435</td>\n",
       "      <td>4</td>\n",
       "      <td>954240.222444</td>\n",
       "      <td>238560.055611</td>\n",
       "    </tr>\n",
       "    <tr>\n",
       "      <th>007_21</th>\n",
       "      <td>1622.222222</td>\n",
       "      <td>3</td>\n",
       "      <td>675550.237000</td>\n",
       "      <td>225183.412333</td>\n",
       "    </tr>\n",
       "    <tr>\n",
       "      <th>008_14</th>\n",
       "      <td>300.925926</td>\n",
       "      <td>4</td>\n",
       "      <td>2073975.188800</td>\n",
       "      <td>518493.797200</td>\n",
       "    </tr>\n",
       "    <tr>\n",
       "      <th>009_1</th>\n",
       "      <td>2032.967033</td>\n",
       "      <td>4</td>\n",
       "      <td>1112971.270910</td>\n",
       "      <td>278242.817727</td>\n",
       "    </tr>\n",
       "    <tr>\n",
       "      <th>009_12</th>\n",
       "      <td>757.452575</td>\n",
       "      <td>6</td>\n",
       "      <td>1483265.262792</td>\n",
       "      <td>247210.877132</td>\n",
       "    </tr>\n",
       "    <tr>\n",
       "      <th>009_15</th>\n",
       "      <td>767.441860</td>\n",
       "      <td>6</td>\n",
       "      <td>1311813.499059</td>\n",
       "      <td>218635.583176</td>\n",
       "    </tr>\n",
       "    <tr>\n",
       "      <th>010_5</th>\n",
       "      <td>998.415214</td>\n",
       "      <td>3</td>\n",
       "      <td>863391.299072</td>\n",
       "      <td>287797.099691</td>\n",
       "    </tr>\n",
       "    <tr>\n",
       "      <th>013_18</th>\n",
       "      <td>2013.422819</td>\n",
       "      <td>3</td>\n",
       "      <td>640362.418427</td>\n",
       "      <td>213454.139476</td>\n",
       "    </tr>\n",
       "    <tr>\n",
       "      <th>013_3</th>\n",
       "      <td>2249.836494</td>\n",
       "      <td>5</td>\n",
       "      <td>2217954.809759</td>\n",
       "      <td>443590.961952</td>\n",
       "    </tr>\n",
       "    <tr>\n",
       "      <th>015_7</th>\n",
       "      <td>1615.863142</td>\n",
       "      <td>7</td>\n",
       "      <td>1579691.352599</td>\n",
       "      <td>225670.193228</td>\n",
       "    </tr>\n",
       "  </tbody>\n",
       "</table>\n",
       "</div>"
      ],
      "text/plain": [
       "                 2014  count_data            area     data_cover\n",
       "CO_FRACC                                                        \n",
       "001_14    2067.437854           3   766949.680521  255649.893507\n",
       "004_1      508.804259           4  1383155.463525  345788.865881\n",
       "004_2      910.211435           4   954240.222444  238560.055611\n",
       "007_21    1622.222222           3   675550.237000  225183.412333\n",
       "008_14     300.925926           4  2073975.188800  518493.797200\n",
       "009_1     2032.967033           4  1112971.270910  278242.817727\n",
       "009_12     757.452575           6  1483265.262792  247210.877132\n",
       "009_15     767.441860           6  1311813.499059  218635.583176\n",
       "010_5      998.415214           3   863391.299072  287797.099691\n",
       "013_18    2013.422819           3   640362.418427  213454.139476\n",
       "013_3     2249.836494           5  2217954.809759  443590.961952\n",
       "015_7     1615.863142           7  1579691.352599  225670.193228"
      ]
     },
     "execution_count": 27,
     "metadata": {},
     "output_type": "execute_result"
    }
   ],
   "source": [
    "remove_scarce_data(fracciones, df, \"CO_FRACC\", 3)\n",
    "\n",
    "fracc_2014 = pd.DataFrame(fracciones[2014])\n",
    "fracc_2014[\"count_data\"] = count_data_fraccs(fracc_2014, df)\n",
    "calc_area(fracc_2014, get_division_path(\"fracciones_caba_censo_2010\"))\n",
    "fracc_2014[\"data_cover\"] = fracc_2014[\"area\"] / fracc_2014[\"count_data\"]\n",
    "\n",
    "fracc_2014[(fracc_2014[\"data_cover\"] > 200000) & (pd.notnull(fracc_2014[2014]))] "
   ]
  },
  {
   "cell_type": "code",
   "execution_count": 28,
   "metadata": {
    "collapsed": false
   },
   "outputs": [
    {
     "data": {
      "text/html": [
       "<div>\n",
       "<table border=\"1\" class=\"dataframe\">\n",
       "  <thead>\n",
       "    <tr style=\"text-align: right;\">\n",
       "      <th></th>\n",
       "      <th>2014</th>\n",
       "      <th>count_data</th>\n",
       "      <th>area</th>\n",
       "      <th>data_cover</th>\n",
       "    </tr>\n",
       "    <tr>\n",
       "      <th>CO_FRACC</th>\n",
       "      <th></th>\n",
       "      <th></th>\n",
       "      <th></th>\n",
       "      <th></th>\n",
       "    </tr>\n",
       "  </thead>\n",
       "  <tbody>\n",
       "    <tr>\n",
       "      <th>001_10</th>\n",
       "      <td>3346.693387</td>\n",
       "      <td>4</td>\n",
       "      <td>287150.705292</td>\n",
       "      <td>71787.676323</td>\n",
       "    </tr>\n",
       "    <tr>\n",
       "      <th>001_12</th>\n",
       "      <td>3924.731183</td>\n",
       "      <td>6</td>\n",
       "      <td>867078.483252</td>\n",
       "      <td>144513.080542</td>\n",
       "    </tr>\n",
       "    <tr>\n",
       "      <th>001_15</th>\n",
       "      <td>2213.630042</td>\n",
       "      <td>7</td>\n",
       "      <td>510498.374725</td>\n",
       "      <td>72928.339246</td>\n",
       "    </tr>\n",
       "    <tr>\n",
       "      <th>001_16</th>\n",
       "      <td>NaN</td>\n",
       "      <td>2</td>\n",
       "      <td>283086.964844</td>\n",
       "      <td>141543.482422</td>\n",
       "    </tr>\n",
       "    <tr>\n",
       "      <th>001_17</th>\n",
       "      <td>1518.361582</td>\n",
       "      <td>4</td>\n",
       "      <td>259548.560455</td>\n",
       "      <td>64887.140114</td>\n",
       "    </tr>\n",
       "  </tbody>\n",
       "</table>\n",
       "</div>"
      ],
      "text/plain": [
       "                 2014  count_data           area     data_cover\n",
       "CO_FRACC                                                       \n",
       "001_10    3346.693387           4  287150.705292   71787.676323\n",
       "001_12    3924.731183           6  867078.483252  144513.080542\n",
       "001_15    2213.630042           7  510498.374725   72928.339246\n",
       "001_16            NaN           2  283086.964844  141543.482422\n",
       "001_17    1518.361582           4  259548.560455   64887.140114"
      ]
     },
     "execution_count": 28,
     "metadata": {},
     "output_type": "execute_result"
    }
   ],
   "source": [
    "fracc_2014 = fracc_2014[fracc_2014[\"data_cover\"] <= 200000]\n",
    "fracc_2014.head()"
   ]
  },
  {
   "cell_type": "markdown",
   "metadata": {},
   "source": [
    "Agregamos el dato a los indicadores a nivel de fracción censal."
   ]
  },
  {
   "cell_type": "code",
   "execution_count": 29,
   "metadata": {
    "collapsed": false
   },
   "outputs": [],
   "source": [
    "from scripts.create_indicators import get_or_create_indicators_df\n",
    "\n",
    "indicators_frac = get_or_create_indicators_df(\"FRAC\", fracc_2014)\n",
    "old_index = indicators_frac.index.copy()\n",
    "indicators_frac = indicators_frac.set_index(\"CO_FRACC\")\n",
    "\n",
    "indicators_frac[\"terr_14\"] = fracc_2014[2014]\n",
    "\n",
    "fracc_index = indicators_frac.index.copy()\n",
    "indicators_frac = indicators_frac.set_index(old_index)\n",
    "indicators_frac[\"CO_FRACC\"] = fracc_index\n",
    "indicators_frac.to_csv(get_indicators_path(\"FRAC\"), encoding=\"utf-8\")"
   ]
  },
  {
   "cell_type": "code",
   "execution_count": 30,
   "metadata": {
    "collapsed": false
   },
   "outputs": [
    {
     "name": "stdout",
     "output_type": "stream",
     "text": [
      "No tienen datos 153 fracciones\n",
      "Total de fracciones 351\n"
     ]
    }
   ],
   "source": [
    "print \"No tienen datos\", len(indicators_frac[pd.isnull(indicators_frac[\"terr_14\"])]), \"fracciones\"\n",
    "print \"Total de fracciones\", len(indicators_frac)"
   ]
  },
  {
   "cell_type": "code",
   "execution_count": null,
   "metadata": {
    "collapsed": true
   },
   "outputs": [],
   "source": []
  }
 ],
 "metadata": {
  "kernelspec": {
   "display_name": "Python 2",
   "language": "python",
   "name": "python2"
  },
  "language_info": {
   "codemirror_mode": {
    "name": "ipython",
    "version": 2
   },
   "file_extension": ".py",
   "mimetype": "text/x-python",
   "name": "python",
   "nbconvert_exporter": "python",
   "pygments_lexer": "ipython2",
   "version": "2.7.10"
  }
 },
 "nbformat": 4,
 "nbformat_minor": 0
}
